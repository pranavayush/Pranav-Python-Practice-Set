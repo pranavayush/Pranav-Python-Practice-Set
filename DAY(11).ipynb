{
 "cells": [
  {
   "cell_type": "code",
   "execution_count": 3,
   "id": "6d2a54d8-dd10-4cf0-9ea3-b4871cfb0b45",
   "metadata": {},
   "outputs": [],
   "source": [
    "#inheritance"
   ]
  },
  {
   "cell_type": "code",
   "execution_count": 5,
   "id": "308c5c20-62d0-4ab3-ba49-6c1ad277cd91",
   "metadata": {},
   "outputs": [
    {
     "name": "stdout",
     "output_type": "stream",
     "text": [
      "ITC ITC Infotech\n"
     ]
    }
   ],
   "source": [
    "class Employee:\n",
    "    company = \"ITC\"\n",
    "    def show(self):\n",
    "        print(f\"The name of the Employee is {self.name} and the salary is {self.salary}\")\n",
    "\n",
    "\n",
    "# class Programmer:\n",
    "#     company = \"ITC Infotech\"\n",
    "#     def show(self):\n",
    "#         print(f\"The name is {self.name} and the salary is {self.salary}\")\n",
    "\n",
    "#     def showLanguage(self):\n",
    "#         print(f\"The name is {self.name} and he is good with {self.language} language\")\n",
    "\n",
    "\n",
    "class Programmer(Employee):\n",
    "    company = \"ITC Infotech\"\n",
    "    def showLanguage(self):\n",
    "        print(f\"The name is {self.name} and he is good with {self.language} language\")\n",
    "\n",
    "\n",
    "a = Employee()\n",
    "b = Programmer()\n",
    "\n",
    "print(a.company, b.company)"
   ]
  },
  {
   "cell_type": "code",
   "execution_count": 7,
   "id": "3275c61a-217f-40f4-96c9-4402bed6bc0f",
   "metadata": {},
   "outputs": [],
   "source": [
    "# multiple inheritance"
   ]
  },
  {
   "cell_type": "code",
   "execution_count": 25,
   "id": "53cdb508-c96a-4397-ad16-b65b7b6ae595",
   "metadata": {},
   "outputs": [
    {
     "name": "stdout",
     "output_type": "stream",
     "text": [
      "The name of the Employee is default name and the salary is ITC Infotech\n",
      "out of all the langauge here is your langauge: python\n"
     ]
    },
    {
     "ename": "AttributeError",
     "evalue": "'Programmer' object has no attribute 'language'",
     "output_type": "error",
     "traceback": [
      "\u001b[1;31m---------------------------------------------------------------------------\u001b[0m",
      "\u001b[1;31mAttributeError\u001b[0m                            Traceback (most recent call last)",
      "Cell \u001b[1;32mIn[25], line 24\u001b[0m\n\u001b[0;32m     22\u001b[0m b\u001b[38;5;241m.\u001b[39mshow()\n\u001b[0;32m     23\u001b[0m b\u001b[38;5;241m.\u001b[39mprintlanguage()\n\u001b[1;32m---> 24\u001b[0m b\u001b[38;5;241m.\u001b[39mshowlanguage()\n",
      "Cell \u001b[1;32mIn[25], line 16\u001b[0m, in \u001b[0;36mProgrammer.showlanguage\u001b[1;34m(self)\u001b[0m\n\u001b[0;32m     15\u001b[0m \u001b[38;5;28;01mdef\u001b[39;00m \u001b[38;5;21mshowlanguage\u001b[39m(\u001b[38;5;28mself\u001b[39m):\n\u001b[1;32m---> 16\u001b[0m     \u001b[38;5;28mprint\u001b[39m(\u001b[38;5;124mf\u001b[39m\u001b[38;5;124m\"\u001b[39m\u001b[38;5;124mThe name is \u001b[39m\u001b[38;5;132;01m{\u001b[39;00m\u001b[38;5;28mself\u001b[39m\u001b[38;5;241m.\u001b[39mcompany\u001b[38;5;132;01m}\u001b[39;00m\u001b[38;5;124m and he is good with \u001b[39m\u001b[38;5;132;01m{\u001b[39;00m\u001b[38;5;28mself\u001b[39m\u001b[38;5;241m.\u001b[39mlanguage\u001b[38;5;132;01m}\u001b[39;00m\u001b[38;5;124m language\u001b[39m\u001b[38;5;124m\"\u001b[39m)\n",
      "\u001b[1;31mAttributeError\u001b[0m: 'Programmer' object has no attribute 'language'"
     ]
    }
   ],
   "source": [
    "class Employee:\n",
    "    company = \"ITC\"\n",
    "    name = \"default name\"\n",
    "    def show(self):\n",
    "        print(f\"The name of the Employee is {self.name} and the salary is {self.company}\")\n",
    "\n",
    "\n",
    "class coder:\n",
    "    langauge = \"python\"\n",
    "    def printlanguage(self):\n",
    "        print(f\"out of all the langauge here is your langauge: {self.langauge}\")\n",
    "\n",
    "class Programmer(Employee, coder):\n",
    "    company = \"ITC Infotech\"\n",
    "    def showlanguage(self):\n",
    "        print(f\"The name is {self.company} and he is good with {self.language} language\")\n",
    "\n",
    "\n",
    "a = Employee()\n",
    "b = Programmer()\n",
    "\n",
    "b.show()\n",
    "b.printlanguage()\n",
    "b.showlanguage()"
   ]
  },
  {
   "cell_type": "code",
   "execution_count": 27,
   "id": "8465185f-47cc-413e-b043-87da89af7918",
   "metadata": {},
   "outputs": [
    {
     "name": "stdout",
     "output_type": "stream",
     "text": [
      "The name of the Employee is Default name and the company is ITC Infotech\n",
      "Out of all the languages here is your language: Python\n",
      "The name is ITC Infotech and he is good with Python language\n"
     ]
    }
   ],
   "source": [
    "class Employee:\n",
    "    company = \"ITC\"\n",
    "    name = \"Default name\"\n",
    "    def show(self):\n",
    "        print(f\"The name of the Employee is {self.name} and the company is {self.company}\")\n",
    "\n",
    "class Coder:\n",
    "    language = \"Python\"\n",
    "    def printLanguages(self):\n",
    "        print(f\"Out of all the languages here is your language: {self.language}\")\n",
    "     \n",
    "\n",
    "\n",
    "class Programmer(Employee, Coder):\n",
    "    company = \"ITC Infotech\"\n",
    "    def showLanguage(self):\n",
    "        print(f\"The name is {self.company} and he is good with {self.language} language\")\n",
    "\n",
    "\n",
    "a = Employee()\n",
    "b = Programmer()\n",
    "\n",
    "b.show()\n",
    "b.printLanguages()\n",
    "b.showLanguage()"
   ]
  },
  {
   "cell_type": "code",
   "execution_count": 29,
   "id": "93e67d1f-f557-421d-a96a-b33e96303d9a",
   "metadata": {},
   "outputs": [],
   "source": [
    "#multi level inheritance"
   ]
  },
  {
   "cell_type": "code",
   "execution_count": 39,
   "id": "c6b854f2-5dcb-4932-bc0a-fbdfa415d9b5",
   "metadata": {},
   "outputs": [
    {
     "name": "stdout",
     "output_type": "stream",
     "text": [
      "1\n",
      "1 2\n",
      "1 2 3\n"
     ]
    }
   ],
   "source": [
    "class employee:\n",
    "    a = 1\n",
    "class programmer(employee):\n",
    "    b = 2\n",
    "class manager(programmer):\n",
    "    c = 3\n",
    "o = employee()\n",
    "print(o.a) #print the a attribute\n",
    "#print(o.b) # shows an error as there is no b attribute in employee class\n",
    "o = programmer()\n",
    "print(o.a , o.b)\n",
    "o = manager()\n",
    "print(o.a, o.b, o.c)"
   ]
  },
  {
   "cell_type": "code",
   "execution_count": 1,
   "id": "f184ceb2-a8dc-4257-97ae-ef619b3e0f56",
   "metadata": {},
   "outputs": [],
   "source": [
    "#super() method"
   ]
  },
  {
   "cell_type": "code",
   "execution_count": 9,
   "id": "79725341-6a15-43f8-b859-8fcc22b9c9b4",
   "metadata": {},
   "outputs": [
    {
     "name": "stdout",
     "output_type": "stream",
     "text": [
      "constructor of employee\n",
      "1\n",
      "constructor programmer\n",
      "1 2\n",
      "constructor programmer\n",
      "constructor of manager\n",
      "1 2 3\n"
     ]
    }
   ],
   "source": [
    "class employee:\n",
    "    def __init__(self):\n",
    "        print(\"constructor of employee\")\n",
    "    \n",
    "    a = 1\n",
    "class programmer(employee):\n",
    "    def __init__(self):\n",
    "        print(\"constructor programmer\")\n",
    "    b = 2\n",
    "class manager(programmer):\n",
    "    def __init__(self):\n",
    "        super().__init__()\n",
    "        print(\"constructor of manager\")\n",
    "    c = 3\n",
    "o = employee()\n",
    "print(o.a) #print the a attribute\n",
    "#print(o.b) # shows an error as there is no b attribute in employee class\n",
    "o = programmer()\n",
    "print(o.a , o.b)\n",
    "o = manager()\n",
    "print(o.a, o.b, o.c)"
   ]
  },
  {
   "cell_type": "code",
   "execution_count": 11,
   "id": "166fcf00-2cad-495d-942a-9a5c2c4ca742",
   "metadata": {},
   "outputs": [],
   "source": [
    "#class method"
   ]
  },
  {
   "cell_type": "code",
   "execution_count": 13,
   "id": "23a9fb9d-fed4-49c2-aca2-c7bef5c4b65e",
   "metadata": {},
   "outputs": [
    {
     "name": "stdout",
     "output_type": "stream",
     "text": [
      "the class value of a is 1\n"
     ]
    }
   ],
   "source": [
    "class employee:\n",
    "    a = 1\n",
    "    @classmethod\n",
    "    def show(self):\n",
    "        print(f\"the class value of a is {self.a}\")\n",
    "e = employee()\n",
    "e.a = 45\n",
    "e.show()"
   ]
  },
  {
   "cell_type": "code",
   "execution_count": 15,
   "id": "4345b7df-ea80-485a-b474-e37a84b2d930",
   "metadata": {},
   "outputs": [],
   "source": [
    "#property decorator"
   ]
  },
  {
   "cell_type": "code",
   "execution_count": 19,
   "id": "e7908839-4e3e-4086-8546-8e16c9fa6018",
   "metadata": {},
   "outputs": [
    {
     "name": "stdout",
     "output_type": "stream",
     "text": [
      "pranav ayush\n",
      "The class attribute of a is 1\n"
     ]
    }
   ],
   "source": [
    "class Employee:\n",
    "    a = 1\n",
    "    \n",
    "    @classmethod\n",
    "    def show(cls):\n",
    "        print(f\"The class attribute of a is {cls.a}\")\n",
    "\n",
    "    @property \n",
    "    def name(self):\n",
    "        return f\"{self.fname} {self.lname}\"\n",
    "    \n",
    "    @name.setter\n",
    "    def name (self,value):\n",
    "        self.fname = value.split(\" \")[0]\n",
    "        self.lname = value.split(\" \")[1]\n",
    "\n",
    "e = Employee()\n",
    "e.a = 45\n",
    "\n",
    "e.name = \"pranav ayush\"\n",
    "print(e.fname, e.lname)\n",
    "\n",
    "e.show()"
   ]
  },
  {
   "cell_type": "code",
   "execution_count": 21,
   "id": "ea39ea7d-5d28-455a-babc-bae978c424ad",
   "metadata": {},
   "outputs": [],
   "source": [
    "#operater overloading"
   ]
  },
  {
   "cell_type": "code",
   "execution_count": 27,
   "id": "b78a2373-d2e9-427d-be6a-1b172a4540c2",
   "metadata": {},
   "outputs": [
    {
     "name": "stdout",
     "output_type": "stream",
     "text": [
      "3\n"
     ]
    }
   ],
   "source": [
    "class number:\n",
    "    def __init__(self, n):\n",
    "        self.n = n\n",
    "    def __add__(self, num):\n",
    "        return self.n + num.n\n",
    "        \n",
    "n = number(1)\n",
    "m = number(2)\n",
    "print(n+m)"
   ]
  },
  {
   "cell_type": "code",
   "execution_count": 35,
   "id": "6c8f702a-bb2f-4f56-9b93-ad7d7554bca5",
   "metadata": {},
   "outputs": [
    {
     "name": "stdout",
     "output_type": "stream",
     "text": [
      "-1\n"
     ]
    }
   ],
   "source": [
    "class number:\n",
    "    def __init__(self, n):\n",
    "        self.n = n\n",
    "    def __sub__(self, num):\n",
    "        return self.n - num.n\n",
    "n = number(1)\n",
    "m = number(2)\n",
    "print(n-m)\n",
    "        \n"
   ]
  },
  {
   "cell_type": "code",
   "execution_count": 37,
   "id": "125a196d-0c96-4ecf-9757-23c00110eb17",
   "metadata": {},
   "outputs": [
    {
     "name": "stdout",
     "output_type": "stream",
     "text": [
      "2\n"
     ]
    }
   ],
   "source": [
    "class number:\n",
    "    def __init__(self, n):\n",
    "        self.n = n\n",
    "    def __mul__(self, num):\n",
    "        return self.n * num.n\n",
    "n = number(1)\n",
    "m = number(2)\n",
    "print(n*m)"
   ]
  },
  {
   "cell_type": "code",
   "execution_count": 39,
   "id": "ea740064-9d6b-4a01-8aca-176138245a97",
   "metadata": {},
   "outputs": [
    {
     "name": "stdout",
     "output_type": "stream",
     "text": [
      "0.5\n"
     ]
    }
   ],
   "source": [
    "class number:\n",
    "    def __init__(self, n):\n",
    "        self.n = n\n",
    "    def __truediv__(self, num):\n",
    "        return self.n / num.n\n",
    "n = number(1)\n",
    "m = number(2)\n",
    "print(n/m)"
   ]
  },
  {
   "cell_type": "code",
   "execution_count": 41,
   "id": "1cbca2ac-8fd9-4338-8d1e-6b2a30383959",
   "metadata": {},
   "outputs": [
    {
     "name": "stdout",
     "output_type": "stream",
     "text": [
      "0\n"
     ]
    }
   ],
   "source": [
    "class number:\n",
    "    def __init__(self, n):\n",
    "        self.n = n\n",
    "    def __floordiv__(self, num):\n",
    "        return self.n // num.n\n",
    "n = number(1)\n",
    "m = number(2)\n",
    "print(n//m)"
   ]
  },
  {
   "cell_type": "code",
   "execution_count": 43,
   "id": "9ac315a7-74ab-4694-aca2-334add36d969",
   "metadata": {},
   "outputs": [],
   "source": [
    "#practice set"
   ]
  },
  {
   "cell_type": "markdown",
   "id": "36075480-a317-491f-b6e2-98af2cd07fb3",
   "metadata": {},
   "source": [
    "1. Create a class (2-D vector) and use it to create another class representing a 3-D \n",
    "vector."
   ]
  },
  {
   "cell_type": "code",
   "execution_count": 50,
   "id": "47909cc6-e503-4052-a28c-60bbfc6a1600",
   "metadata": {},
   "outputs": [
    {
     "name": "stdout",
     "output_type": "stream",
     "text": [
      "the vector is 1i + 2j\n",
      "the vector is 1i + 2j\n"
     ]
    }
   ],
   "source": [
    "class twodvector:\n",
    "    def __init__(self, i, j):\n",
    "        self.i = i\n",
    "        self.j = j\n",
    "    def show(self):\n",
    "        print(f\"the vector is {self.i}i + {self.j}j\")\n",
    "class threedvector(twodvector):\n",
    "    def __init__(self, i, j, k):\n",
    "        super().__init__(i, j)\n",
    "        self.k = k\n",
    "a = twodvector(1, 2)\n",
    "a.show()\n",
    "b = threedvector(1, 2, 3)\n",
    "b.show()"
   ]
  },
  {
   "cell_type": "markdown",
   "id": "9aad1716-d576-45e1-bcd2-c0b5ecdb5341",
   "metadata": {},
   "source": [
    "2. Create a class ‘Pets’ from a class ‘Animals’ and further create a class ‘Dog’ from \n",
    "‘Pets’. Add a method ‘bark’ to class ‘Dog’. "
   ]
  },
  {
   "cell_type": "code",
   "execution_count": 59,
   "id": "376082bf-6efc-4198-8f6b-3d10602dafb9",
   "metadata": {},
   "outputs": [
    {
     "name": "stdout",
     "output_type": "stream",
     "text": [
      "bow bow\n"
     ]
    }
   ],
   "source": [
    "class animal:\n",
    "    pass\n",
    "class pets(animal):\n",
    "    pass\n",
    "class dog(pets):\n",
    "    @staticmethod\n",
    "    def bark():\n",
    "        print(\"bow bow\")\n",
    "d = dog()\n",
    "d.bark()"
   ]
  },
  {
   "cell_type": "markdown",
   "id": "19deb653-0c43-4319-a9ca-da46aab9e167",
   "metadata": {},
   "source": [
    "3. Create a class ‘Employee’ and add salary and increment properties to it. Write a method ‘salaryAfterIncrement’ method with a @property decorator with a setter \n",
    "which changes the value of increment based on the salary. "
   ]
  },
  {
   "cell_type": "code",
   "execution_count": 65,
   "id": "d36c88d0-91f0-4494-aca0-88ba2e6ab999",
   "metadata": {},
   "outputs": [
    {
     "name": "stdout",
     "output_type": "stream",
     "text": [
      "19.999999999999996\n"
     ]
    }
   ],
   "source": [
    "class Employee:\n",
    "    salary = 234\n",
    "    increment = 20 \n",
    "    \n",
    "    @property\n",
    "    def salaryAfterIncrement(self):\n",
    "        return (self.salary + self.salary * (self.increment/100))\n",
    "\n",
    "    @salaryAfterIncrement.setter \n",
    "    def salaryAfterIncrement(self, salary):\n",
    "        self.increment =  ((salary/self.salary) -1)*100 \n",
    "\n",
    "\n",
    "\n",
    "\n",
    "e = Employee()\n",
    "# print(e.salaryAfterIncrement)\n",
    "e.salaryAfterIncrement = 280.8\n",
    "print(e.increment)"
   ]
  },
  {
   "cell_type": "markdown",
   "id": "a68d646d-2ce3-4d3a-ab90-0814288ced87",
   "metadata": {},
   "source": [
    "4. Write a class ‘Complex’ to represent complex numbers, along with overloaded \n",
    "operators ‘+’ and ‘*’ which adds and multiplies them. "
   ]
  },
  {
   "cell_type": "code",
   "execution_count": 78,
   "id": "f93ee8c0-43e6-4f6e-b28b-f40054427b7c",
   "metadata": {},
   "outputs": [
    {
     "name": "stdout",
     "output_type": "stream",
     "text": [
      "4 + 6i\n"
     ]
    }
   ],
   "source": [
    "class complex:\n",
    "    def __init__(self, r, i):\n",
    "        self.r = r\n",
    "        self.i = i\n",
    "    def __add__(self, c2):\n",
    "        return complex(self.r + c2.r, self.i + c2.i)\n",
    "    def __str__(self):\n",
    "        return f\"{self.r} + {self.i}i\"\n",
    "c1 = complex(1, 2)\n",
    "c2 = complex(3, 4)\n",
    "print(c1 + c2)\n",
    "        "
   ]
  },
  {
   "cell_type": "markdown",
   "id": "32237211-3231-4f8f-8a93-ac85692b18a3",
   "metadata": {},
   "source": [
    "5. Write a class vector representing a vector of n dimensions. Overload the + and * \n",
    "operator which calculates the sum and the dot(.) product of them."
   ]
  },
  {
   "cell_type": "code",
   "execution_count": 81,
   "id": "a3e85e3d-d1df-4782-a522-405e0174229c",
   "metadata": {},
   "outputs": [
    {
     "name": "stdout",
     "output_type": "stream",
     "text": [
      "Vector(5, 7, 9)\n",
      "32\n",
      "Vector(8, 10, 12)\n",
      "50\n"
     ]
    }
   ],
   "source": [
    "class Vector:\n",
    "    def __init__(self, x, y, z):\n",
    "        self.x = x\n",
    "        self.y = y\n",
    "        self.z = z\n",
    "\n",
    "    def __add__(self, other):\n",
    "        result = Vector(self.x + other.x, self.y + other.y, self.z + other.z)\n",
    "        return result\n",
    "\n",
    "    def __mul__(self, other):\n",
    "        result = self.x * other.x + self.y * other.y + self.z * other.z\n",
    "        return result\n",
    "\n",
    "    def __str__(self):\n",
    "        return f\"Vector({self.x}, {self.y}, {self.z})\"\n",
    "\n",
    "# Test the implementation\n",
    "v1 = Vector(1, 2, 3)\n",
    "v2 = Vector(4, 5, 6)\n",
    "v3 = Vector(7, 8, 9)  # Same dimension vector\n",
    "\n",
    "print(v1 + v2)  # Output: Vector(5, 7, 9)\n",
    "print(v1 * v2)  # Output: 32\n",
    "\n",
    "print(v1 + v3)  # Output: Vector(8, 10, 12)\n",
    "print(v1 * v3)  # Output: 50"
   ]
  },
  {
   "cell_type": "markdown",
   "id": "1360e795-ddd0-4628-a35b-51b920df3ab0",
   "metadata": {},
   "source": [
    "6. Override the __len__() method on vector of problem 5 to display the dimension of the \n",
    "vector. "
   ]
  },
  {
   "cell_type": "code",
   "execution_count": 85,
   "id": "db77d365-f407-4d79-a910-3cd8c46d5e92",
   "metadata": {},
   "outputs": [
    {
     "name": "stdout",
     "output_type": "stream",
     "text": [
      "3\n"
     ]
    }
   ],
   "source": [
    "class Vector:\n",
    "    def __init__(self, l): \n",
    "        self.l = l\n",
    "\n",
    "    \n",
    "    \n",
    "    def __len__(self):\n",
    "        return len(self.l)\n",
    "\n",
    "# Test the implementation\n",
    "v1 = Vector([1, 2, 3]) \n",
    "print(len(v1))"
   ]
  },
  {
   "cell_type": "code",
   "execution_count": null,
   "id": "e36c6784-18ce-45a8-8c11-ba5f0d0e2034",
   "metadata": {},
   "outputs": [],
   "source": []
  }
 ],
 "metadata": {
  "kernelspec": {
   "display_name": "Python 3 (ipykernel)",
   "language": "python",
   "name": "python3"
  },
  "language_info": {
   "codemirror_mode": {
    "name": "ipython",
    "version": 3
   },
   "file_extension": ".py",
   "mimetype": "text/x-python",
   "name": "python",
   "nbconvert_exporter": "python",
   "pygments_lexer": "ipython3",
   "version": "3.12.7"
  }
 },
 "nbformat": 4,
 "nbformat_minor": 5
}
