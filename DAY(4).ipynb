{
 "cells": [
  {
   "cell_type": "code",
   "execution_count": 1,
   "id": "5032161d-29ba-4c53-8034-39663b8b64eb",
   "metadata": {},
   "outputs": [],
   "source": [
    "#conditional expression"
   ]
  },
  {
   "cell_type": "code",
   "execution_count": null,
   "id": "66459b6b-1f14-41c7-bbba-5f98cfdcd02e",
   "metadata": {},
   "outputs": [],
   "source": [
    "#if else"
   ]
  },
  {
   "cell_type": "code",
   "execution_count": 9,
   "id": "d72fc510-0989-444d-9daa-9fb2a611f79e",
   "metadata": {},
   "outputs": [
    {
     "name": "stdin",
     "output_type": "stream",
     "text": [
      "enter your age:  5\n"
     ]
    },
    {
     "name": "stdout",
     "output_type": "stream",
     "text": [
      "you are below the age of consent\n"
     ]
    }
   ],
   "source": [
    "a = int(input(\"enter your age: \"))\n",
    "if(a>18): #if lagate hi space aayega usse bolte hai indent space\n",
    "    print(\"you are above the age of consent\")\n",
    "    print(\"good for you\")\n",
    "\n",
    "else:\n",
    "    print(\"you are below the age of consent\")\n",
    "    "
   ]
  },
  {
   "cell_type": "code",
   "execution_count": 13,
   "id": "c8934282-c8f6-44be-938e-cda2e5cc99ea",
   "metadata": {},
   "outputs": [
    {
     "name": "stdin",
     "output_type": "stream",
     "text": [
      "enter your age:  78\n"
     ]
    },
    {
     "name": "stdout",
     "output_type": "stream",
     "text": [
      "you are above the age of consent\n",
      "good for you\n"
     ]
    }
   ],
   "source": [
    "a = int(input(\"enter your age: \"))\n",
    "if(a>18): #if lagate hi space aayega usse bolte hai indent space\n",
    "    print(\"you are above the age of consent\")\n",
    "    print(\"good for you\") #if ki condition true hogi toh else nhin chalega\n",
    "\n",
    "else:\n",
    "    print(\"you are below the age of consent\") #if ki condition false hogi tb else chalega\n",
    "    print(\"end of program\")\n",
    "    "
   ]
  },
  {
   "cell_type": "code",
   "execution_count": 15,
   "id": "a190be38-087b-483f-9776-25c2426b7197",
   "metadata": {},
   "outputs": [],
   "source": [
    "#elif"
   ]
  },
  {
   "cell_type": "code",
   "execution_count": 25,
   "id": "ea685190-69e1-4de0-a2b7-f2e38361621e",
   "metadata": {},
   "outputs": [
    {
     "name": "stdin",
     "output_type": "stream",
     "text": [
      "enter your age:  0\n"
     ]
    },
    {
     "name": "stdout",
     "output_type": "stream",
     "text": [
      "you are entering 0 which is not a valid age\n"
     ]
    }
   ],
   "source": [
    "a = int(input(\"enter your age: \"))\n",
    "if(a>18):\n",
    "    print(\"you are above the age of consent\")\n",
    "    print(\"good for you\") \n",
    "elif(a>0):\n",
    "    print(\"you ae entering an invalid negative age\")\n",
    "elif(a==0):\n",
    "    print(\"you are entering 0 which is not a valid age\")\n",
    "else:\n",
    "    print(\"you are below the age of consent\") \n",
    "    print(\"end of program\")"
   ]
  },
  {
   "cell_type": "markdown",
   "id": "7550f7bc-33a1-4297-923d-4e3ea1c56843",
   "metadata": {},
   "source": [
    "Quick Quiz: Write a program to print yes when the age entered by the user is greater \n",
    "than or equal to 18. "
   ]
  },
  {
   "cell_type": "code",
   "execution_count": 61,
   "id": "dca72fd0-bebf-4255-8bad-d1ea3881b793",
   "metadata": {},
   "outputs": [
    {
     "name": "stdin",
     "output_type": "stream",
     "text": [
      "enter you age: 20\n"
     ]
    },
    {
     "name": "stdout",
     "output_type": "stream",
     "text": [
      "yes\n"
     ]
    }
   ],
   "source": [
    "a = int(input(\"enter you age:\"))\n",
    "if(a>18):\n",
    "    print(\"yes\")\n",
    "elif(a==18):\n",
    "    print(\"yes\")"
   ]
  },
  {
   "cell_type": "code",
   "execution_count": 45,
   "id": "062f9eec-c752-4e2a-b44e-c8e025ea1df9",
   "metadata": {},
   "outputs": [],
   "source": [
    "# relational operators\n",
    "# ==: equals. \n",
    "# > =: greater than/ equal to. \n",
    "# < =: lesser than/ equal to. "
   ]
  },
  {
   "cell_type": "code",
   "execution_count": 47,
   "id": "6be9b801-7ce3-4a42-807f-61a64e832cc6",
   "metadata": {},
   "outputs": [],
   "source": [
    "# multiple if statement"
   ]
  },
  {
   "cell_type": "code",
   "execution_count": 63,
   "id": "dab7cf98-6ee1-4673-a97d-cdfd326dfbb4",
   "metadata": {},
   "outputs": [
    {
     "name": "stdin",
     "output_type": "stream",
     "text": [
      "enter your age:  28\n"
     ]
    },
    {
     "name": "stdout",
     "output_type": "stream",
     "text": [
      "a is even\n",
      "you are above the age of consent\n",
      "good for you\n"
     ]
    }
   ],
   "source": [
    "a = int(input(\"enter your age: \"))\n",
    "#if statement no: 1\n",
    "if(a%2 == 0):\n",
    "    print(\"a is even\")\n",
    "#end of if statement number: 1\n",
    "\n",
    "#if statement no: 2\n",
    "if(a>18):\n",
    "    print(\"you are above the age of consent\")\n",
    "    print(\"good for you\") \n",
    "elif(a>0):\n",
    "    print(\"you ae entering an invalid negative age\")\n",
    "elif(a==0):\n",
    "    print(\"you are entering 0 which is not a valid age\")\n",
    "else:\n",
    "    print(\"you are below the age of consent\") \n",
    "#end of statement no: 2\n",
    "    \n",
    "    print(\"end of program\")"
   ]
  },
  {
   "cell_type": "code",
   "execution_count": null,
   "id": "89dad7a2-f206-45af-ac9e-858d79ef3882",
   "metadata": {},
   "outputs": [],
   "source": [
    "IMPORTANT NOTES: \n",
    "1. There can be any number of elif statements. \n",
    "2. Last else is executed only if all the conditions inside elifs fail. "
   ]
  },
  {
   "cell_type": "code",
   "execution_count": 67,
   "id": "93cba6d0-2131-4b33-88c6-6912527ba67d",
   "metadata": {},
   "outputs": [],
   "source": [
    "#practice set "
   ]
  },
  {
   "cell_type": "markdown",
   "id": "c746de26-e378-4eab-8c79-75649721d74b",
   "metadata": {},
   "source": [
    "1. Write a program to find the greatest of four numbers entered by the user."
   ]
  },
  {
   "cell_type": "code",
   "execution_count": 74,
   "id": "ad6e187f-d1f4-4b27-aa2c-74e4c5c9302e",
   "metadata": {},
   "outputs": [
    {
     "name": "stdin",
     "output_type": "stream",
     "text": [
      "enter number 1:  65\n",
      "enter number 2:  87\n",
      "enter number 3:  2\n",
      "enter number 4:  34\n"
     ]
    },
    {
     "name": "stdout",
     "output_type": "stream",
     "text": [
      "greatest number is a1: 87\n"
     ]
    }
   ],
   "source": [
    "a1 = int(input(\"enter number 1: \"))\n",
    "a2 = int(input(\"enter number 2: \"))\n",
    "a3 = int(input(\"enter number 3: \"))\n",
    "a4 = int(input(\"enter number 4: \"))\n",
    "if(a1>a2 and a1>a3 and a3>a4):\n",
    "    print(\"greatest number is a1:\", a1)\n",
    "elif(a2>a1 and a2>a3 and a2>a4):\n",
    "    print(\"greatest number is a1:\", a2)\n",
    "elif(a3>a1 and a3>a2 and a3>a4):\n",
    "    print(\"greatest number is a1:\", a3)\n",
    "if(a4>a1 and a4>a2 and a4>a3):\n",
    "    print(\"greatest number is a1:\", a4)\n",
    "    "
   ]
  },
  {
   "cell_type": "markdown",
   "id": "a43ea130-d68c-4059-ab92-4a440cb9dabd",
   "metadata": {},
   "source": [
    "2. Write a program to find out whether a student has passed or failed if it requires a \n",
    "total of 40% and at least 33% in each subject to pass. Assume 3 subjects and \n",
    "take marks as an input from the user. "
   ]
  },
  {
   "cell_type": "code",
   "execution_count": 83,
   "id": "61ce2605-465e-4250-b720-16f9a7561338",
   "metadata": {},
   "outputs": [
    {
     "name": "stdin",
     "output_type": "stream",
     "text": [
      "enter marks 1:  60\n",
      "enter marks 2:  40\n",
      "enter marks 3:  40\n"
     ]
    },
    {
     "name": "stdout",
     "output_type": "stream",
     "text": [
      "you are pass: 46.666666666666664\n"
     ]
    }
   ],
   "source": [
    "marks1 = int(input(\"enter marks 1: \"))\n",
    "marks2 = int(input(\"enter marks 2: \"))\n",
    "marks3 = int(input(\"enter marks 3: \"))\n",
    "\n",
    "#check for total perce\n",
    "total_percentage = (100*(marks1 + marks2 + marks3))/300\n",
    "if(total_percentage>=40 and marks1>33 and marks2>33 and marks3>33):\n",
    "    print(\"you are pass:\", total_percentage)\n",
    "else:\n",
    "    print(\"you are fail:\", total_percentage)"
   ]
  },
  {
   "cell_type": "markdown",
   "id": "bb2b8a21-fa26-49e1-88b5-403dc712baf8",
   "metadata": {},
   "source": [
    "3. A spam comment is defined as a text containing following keywords: \n",
    "“Make a lot of money”, “buy now”, “subscribe this”, “click this”. Write a program \n",
    "to detect these spams."
   ]
  },
  {
   "cell_type": "code",
   "execution_count": 88,
   "id": "9f7f8d01-6cad-4720-ae43-3a38ac322c4a",
   "metadata": {},
   "outputs": [
    {
     "name": "stdin",
     "output_type": "stream",
     "text": [
      "enter your comment:  buy now\n"
     ]
    },
    {
     "name": "stdout",
     "output_type": "stream",
     "text": [
      "this comment is a spam: \n"
     ]
    }
   ],
   "source": [
    "p1= \"Make a lot of money\"\n",
    "p2=\"buy now\"\n",
    "p3=\"subscribe this\"\n",
    "p4=\"click this\"\n",
    "message = input(\"enter your comment: \")\n",
    "if((p1 in message)or (p2 in message) or (p3 in message) or (p4 in message)):\n",
    "    print(\"this comment is a spam\")\n",
    "else:\n",
    "    print(\"this comment is not a spam\")"
   ]
  },
  {
   "cell_type": "markdown",
   "id": "62eb606b-83a4-4912-9ce8-ff2bfd78d2cf",
   "metadata": {},
   "source": [
    "4. Write a program to find whether a given username contains less than 10 \n",
    "characters or not. "
   ]
  },
  {
   "cell_type": "code",
   "execution_count": 95,
   "id": "67b06e4d-4bec-44e0-9dcf-aa7bde14535b",
   "metadata": {},
   "outputs": [
    {
     "name": "stdin",
     "output_type": "stream",
     "text": [
      "enter username:  jnnicndwinsijxnini\n"
     ]
    },
    {
     "name": "stdout",
     "output_type": "stream",
     "text": [
      "your username contain more than 10 character\n"
     ]
    }
   ],
   "source": [
    "username = input(\"enter username: \")\n",
    "if(len(username)<10):\n",
    "    print(\"your username less than 10 character\")\n",
    "else:\n",
    "    print(\"your username contain more than 10 character\")\n",
    "    "
   ]
  },
  {
   "cell_type": "markdown",
   "id": "08ba9837-b8db-453f-ab99-4df70a14c05c",
   "metadata": {},
   "source": [
    "5. Write a program which finds out whether a given name is present in a list or not."
   ]
  },
  {
   "cell_type": "code",
   "execution_count": 98,
   "id": "3dc83b21-9d0f-417f-9f50-163fdd009867",
   "metadata": {},
   "outputs": [
    {
     "name": "stdin",
     "output_type": "stream",
     "text": [
      "enter your name:  rahul\n"
     ]
    },
    {
     "name": "stdout",
     "output_type": "stream",
     "text": [
      "your name not in the list\n"
     ]
    }
   ],
   "source": [
    "l = [\"arsh\", \"shubh\", \"satyam\", \"divya\", \"harry\"]\n",
    "name = input(\"enter your name: \")\n",
    "if(name in l):\n",
    "    print(\"your name in the list\")\n",
    "else:\n",
    "    print(\"your name not in the list\")\n"
   ]
  },
  {
   "cell_type": "markdown",
   "id": "36c359ac-8dcd-4ad2-adfe-db74845da89d",
   "metadata": {},
   "source": [
    "6. Write a program to calculate the grade of a student from his marks from the \n",
    "following scheme: \n",
    "90 – 100 => Ex \n",
    "80 – 90 => A \n",
    "70 – 80 => B \n",
    "60 – 70  =>C \n",
    "50 – 60 => D \n",
    "<50        \n",
    "=> F"
   ]
  },
  {
   "cell_type": "code",
   "execution_count": 103,
   "id": "0a44d0fa-e34a-407f-a968-778d59f56f39",
   "metadata": {},
   "outputs": [
    {
     "name": "stdin",
     "output_type": "stream",
     "text": [
      "enter your marks:  30\n"
     ]
    },
    {
     "name": "stdout",
     "output_type": "stream",
     "text": [
      "your grade is:  F\n"
     ]
    }
   ],
   "source": [
    "marks = int(input(\"enter your marks: \"))\n",
    "if(marks<=100 and marks>90):\n",
    "    grade = \"ex\"\n",
    "if(marks<=90 and marks>80):\n",
    "    grade = \"A\"\n",
    "elif(marks<=80 and marks>70):\n",
    "    grade = \"B\"\n",
    "elif(marks<=70 and marks>60):\n",
    "    grade = \"C\"\n",
    "elif(marks<=60 and marks>50):\n",
    "    grade = \"D\"\n",
    "elif(marks<50):\n",
    "    grade = \"F\"\n",
    "print(\"your grade is: \", grade)\n"
   ]
  },
  {
   "cell_type": "markdown",
   "id": "49ed0b55-2b9a-48bc-8dc1-5d20f16a9da6",
   "metadata": {},
   "source": [
    "7. Write a program to find out whether a given post is talking about “Harry” or not."
   ]
  },
  {
   "cell_type": "code",
   "execution_count": 122,
   "id": "7df2b2a5-f9f6-427f-8211-ee346f26570e",
   "metadata": {},
   "outputs": [
    {
     "name": "stdin",
     "output_type": "stream",
     "text": [
      "Enter your post:  harry\n"
     ]
    },
    {
     "name": "stdout",
     "output_type": "stream",
     "text": [
      "The post is talking about Harry.\n"
     ]
    }
   ],
   "source": [
    "# Input: user post\n",
    "post = input(\"Enter your post: \")\n",
    "\n",
    "# Convert to lowercase to make it case-insensitive\n",
    "if \"harry\" in post.lower():\n",
    "    print(\"The post is talking about Harry.\")\n",
    "else:\n",
    "    print(\"The post is NOT talking about Harry.\")\n"
   ]
  },
  {
   "cell_type": "code",
   "execution_count": null,
   "id": "c0b2e21c-0879-4813-90fe-e0cec909bd22",
   "metadata": {},
   "outputs": [],
   "source": []
  }
 ],
 "metadata": {
  "kernelspec": {
   "display_name": "Python 3 (ipykernel)",
   "language": "python",
   "name": "python3"
  },
  "language_info": {
   "codemirror_mode": {
    "name": "ipython",
    "version": 3
   },
   "file_extension": ".py",
   "mimetype": "text/x-python",
   "name": "python",
   "nbconvert_exporter": "python",
   "pygments_lexer": "ipython3",
   "version": "3.12.7"
  }
 },
 "nbformat": 4,
 "nbformat_minor": 5
}
