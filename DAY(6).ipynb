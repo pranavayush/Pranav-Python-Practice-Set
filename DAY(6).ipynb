{
 "cells": [
  {
   "cell_type": "code",
   "execution_count": 1,
   "id": "797f3248-ba3c-4caa-b469-9f43b4f81add",
   "metadata": {},
   "outputs": [],
   "source": [
    "#for loops"
   ]
  },
  {
   "cell_type": "code",
   "execution_count": 3,
   "id": "614565f4-b51c-4355-a6a7-99ae016365ff",
   "metadata": {},
   "outputs": [
    {
     "name": "stdout",
     "output_type": "stream",
     "text": [
      "0\n",
      "1\n",
      "2\n",
      "3\n"
     ]
    }
   ],
   "source": [
    "for i in range(4):\n",
    "    print(i)"
   ]
  },
  {
   "cell_type": "code",
   "execution_count": 7,
   "id": "ca8d6cdf-c35b-45a7-890e-db267f4b5f9c",
   "metadata": {},
   "outputs": [
    {
     "name": "stdout",
     "output_type": "stream",
     "text": [
      "0\n",
      "4\n",
      "8\n",
      "12\n",
      "16\n",
      "20\n",
      "24\n",
      "28\n",
      "32\n",
      "36\n",
      "40\n",
      "44\n",
      "48\n",
      "52\n",
      "56\n",
      "60\n",
      "64\n",
      "68\n",
      "72\n",
      "76\n",
      "80\n",
      "84\n",
      "88\n",
      "92\n",
      "96\n"
     ]
    }
   ],
   "source": [
    "for i in range(0, 100, 4):\n",
    "    print(i)"
   ]
  },
  {
   "cell_type": "code",
   "execution_count": 9,
   "id": "82705f8f-b70d-49ae-9386-c4b11599ad43",
   "metadata": {},
   "outputs": [
    {
     "name": "stdout",
     "output_type": "stream",
     "text": [
      "1\n",
      "4\n",
      "6\n",
      "7\n",
      "234\n",
      "12\n"
     ]
    }
   ],
   "source": [
    "l = [1, 4, 6, 7, 234, 12] #for loops with list\n",
    "for i in l:\n",
    "    print(i)"
   ]
  },
  {
   "cell_type": "code",
   "execution_count": 15,
   "id": "fea56af0-219c-4c61-a94f-9389184204a1",
   "metadata": {},
   "outputs": [
    {
     "name": "stdout",
     "output_type": "stream",
     "text": [
      "(6, 34, 456, 12)\n",
      "(6, 34, 456, 12)\n",
      "(6, 34, 456, 12)\n",
      "(6, 34, 456, 12)\n"
     ]
    }
   ],
   "source": [
    "t = (6, 34, 456, 12) #for loops with tuple\n",
    "for i in t:\n",
    "    print(t)"
   ]
  },
  {
   "cell_type": "code",
   "execution_count": 13,
   "id": "e72ea775-93c5-4a89-a187-3e12240f6d39",
   "metadata": {},
   "outputs": [
    {
     "name": "stdout",
     "output_type": "stream",
     "text": [
      "p\n",
      "r\n",
      "a\n",
      "n\n",
      "a\n",
      "v\n"
     ]
    }
   ],
   "source": [
    "s = \"pranav\" #for loops with string\n",
    "for i in s:\n",
    "    print(i)"
   ]
  },
  {
   "cell_type": "code",
   "execution_count": null,
   "id": "cca9396e-1c5e-4834-861f-030664f18359",
   "metadata": {},
   "outputs": [],
   "source": [
    "#for loop with else"
   ]
  },
  {
   "cell_type": "code",
   "execution_count": 17,
   "id": "1554d204-1fbc-48c9-bc2e-9b04a0417688",
   "metadata": {},
   "outputs": [
    {
     "name": "stdout",
     "output_type": "stream",
     "text": [
      "1\n",
      "7\n",
      "8\n"
     ]
    }
   ],
   "source": [
    "l = [1,7,8]\n",
    "for item in l:\n",
    "    print(item)\n",
    "else:\n",
    "    print(\"done\") #this is printed when the loop was exhausted "
   ]
  },
  {
   "cell_type": "code",
   "execution_count": 19,
   "id": "969fa28a-ae29-4301-af1f-773ae8ac41a8",
   "metadata": {},
   "outputs": [],
   "source": [
    "#the break statement"
   ]
  },
  {
   "cell_type": "code",
   "execution_count": 21,
   "id": "d8f450d3-43c7-44a2-aba9-db40aab5f720",
   "metadata": {},
   "outputs": [
    {
     "name": "stdout",
     "output_type": "stream",
     "text": [
      "0\n",
      "1\n",
      "2\n",
      "3\n",
      "4\n",
      "5\n",
      "6\n",
      "7\n",
      "8\n",
      "9\n",
      "10\n",
      "11\n",
      "12\n",
      "13\n",
      "14\n",
      "15\n",
      "16\n",
      "17\n",
      "18\n",
      "19\n",
      "20\n",
      "21\n",
      "22\n",
      "23\n",
      "24\n",
      "25\n",
      "26\n",
      "27\n",
      "28\n",
      "29\n",
      "30\n",
      "31\n",
      "32\n",
      "33\n"
     ]
    }
   ],
   "source": [
    "for i in range(100):\n",
    "    if(i == 34):\n",
    "        break #exit the loop right now\n",
    "    print(i)"
   ]
  },
  {
   "cell_type": "code",
   "execution_count": 23,
   "id": "3ebbca5e-99d1-4742-a0d1-a65d12c1061f",
   "metadata": {},
   "outputs": [
    {
     "name": "stdout",
     "output_type": "stream",
     "text": [
      "0\n",
      "1\n",
      "2\n",
      "3\n",
      "4\n",
      "5\n",
      "6\n",
      "7\n",
      "8\n",
      "9\n",
      "10\n",
      "11\n",
      "12\n",
      "13\n",
      "14\n",
      "15\n",
      "16\n",
      "17\n",
      "18\n",
      "19\n",
      "20\n",
      "21\n",
      "22\n",
      "23\n",
      "24\n",
      "25\n",
      "26\n",
      "27\n",
      "28\n",
      "29\n",
      "30\n",
      "31\n",
      "32\n",
      "33\n",
      "35\n",
      "36\n",
      "37\n",
      "38\n",
      "39\n",
      "40\n",
      "41\n",
      "42\n",
      "43\n",
      "44\n",
      "45\n",
      "46\n",
      "47\n",
      "48\n",
      "49\n",
      "50\n",
      "51\n",
      "52\n",
      "53\n",
      "54\n",
      "55\n",
      "56\n",
      "57\n",
      "58\n",
      "59\n",
      "60\n",
      "61\n",
      "62\n",
      "63\n",
      "64\n",
      "65\n",
      "66\n",
      "67\n",
      "68\n",
      "69\n",
      "70\n",
      "71\n",
      "72\n",
      "73\n",
      "74\n",
      "75\n",
      "76\n",
      "77\n",
      "78\n",
      "79\n",
      "80\n",
      "81\n",
      "82\n",
      "83\n",
      "84\n",
      "85\n",
      "86\n",
      "87\n",
      "88\n",
      "89\n",
      "90\n",
      "91\n",
      "92\n",
      "93\n",
      "94\n",
      "95\n",
      "96\n",
      "97\n",
      "98\n",
      "99\n"
     ]
    }
   ],
   "source": [
    "for i in range(100):\n",
    "    if(i == 34):\n",
    "        continue #skip this intertion\n",
    "    print(i)"
   ]
  },
  {
   "cell_type": "code",
   "execution_count": 25,
   "id": "bdd3c6b7-48f9-4d29-abca-c0a5c8d83ae1",
   "metadata": {},
   "outputs": [],
   "source": [
    "#pass statement"
   ]
  },
  {
   "cell_type": "code",
   "execution_count": 31,
   "id": "469cd0c6-5d61-4bbf-a037-6929c8494689",
   "metadata": {},
   "outputs": [
    {
     "name": "stdout",
     "output_type": "stream",
     "text": [
      "0\n",
      "1\n",
      "2\n",
      "3\n",
      "4\n",
      "5\n",
      "6\n",
      "7\n",
      "8\n",
      "9\n",
      "10\n",
      "11\n",
      "12\n",
      "13\n",
      "14\n",
      "15\n",
      "16\n",
      "17\n",
      "18\n",
      "19\n",
      "20\n",
      "21\n",
      "22\n",
      "23\n"
     ]
    }
   ],
   "source": [
    "for i in range(64):\n",
    "    pass #pass mtlb ki tum yha ka kaam baad mein karoge \n",
    "\n",
    "\n",
    "i = 0\n",
    "while(i<24):\n",
    "    print(i)\n",
    "    i += 1"
   ]
  },
  {
   "cell_type": "code",
   "execution_count": 33,
   "id": "5827e610-6dc6-4b14-bd22-f5f9672fda63",
   "metadata": {},
   "outputs": [],
   "source": [
    "# PRACTICE SET"
   ]
  },
  {
   "cell_type": "markdown",
   "id": "c199d664-4f6a-421f-a5db-45c7da312310",
   "metadata": {},
   "source": [
    "1. Write a program to print multiplication table of a given number using for loop."
   ]
  },
  {
   "cell_type": "code",
   "execution_count": 36,
   "id": "a8fb5b0b-e7b9-4949-b971-eab35d77c67c",
   "metadata": {},
   "outputs": [
    {
     "name": "stdin",
     "output_type": "stream",
     "text": [
      "enter the number:  4\n"
     ]
    },
    {
     "name": "stdout",
     "output_type": "stream",
     "text": [
      "4 x 1 = 4\n",
      "4 x 2 = 8\n",
      "4 x 3 = 12\n",
      "4 x 4 = 16\n",
      "4 x 5 = 20\n",
      "4 x 6 = 24\n",
      "4 x 7 = 28\n",
      "4 x 8 = 32\n",
      "4 x 9 = 36\n",
      "4 x 10 = 40\n"
     ]
    }
   ],
   "source": [
    "n = int(input(\"enter the number: \"))\n",
    "for i in range(1, 11):\n",
    "    print(f\"{n} x {i} = {n * i}\")"
   ]
  },
  {
   "cell_type": "markdown",
   "id": "a26810a7-0be0-485a-89db-5f62ec8a651f",
   "metadata": {},
   "source": [
    "2. Write a program to greet all the person names stored in a list ‘l’ and which starts \n",
    "with S.\n",
    "l = [\"Harry\", \"Soham\", \"Sachin\", \"Rahul\"]"
   ]
  },
  {
   "cell_type": "code",
   "execution_count": 41,
   "id": "b4019250-9ba6-4e4b-959a-deeaebc0b8d3",
   "metadata": {},
   "outputs": [
    {
     "name": "stdout",
     "output_type": "stream",
     "text": [
      "helloSoham\n",
      "helloSachin\n"
     ]
    }
   ],
   "source": [
    "l = [\"Harry\", \"Soham\", \"Sachin\", \"Rahul\"]\n",
    "for name in l:\n",
    "    if(name.startswith(\"S\")):\n",
    "        print(f\"hello{name}\")"
   ]
  },
  {
   "cell_type": "markdown",
   "id": "ba6c4ae2-fae6-4837-9892-c490378e46c3",
   "metadata": {},
   "source": [
    "3. Attempt problem 1 using while loop."
   ]
  },
  {
   "cell_type": "code",
   "execution_count": 1,
   "id": "c500b700-9dc7-4260-96b2-a4bd6b6bc0a8",
   "metadata": {},
   "outputs": [
    {
     "name": "stdin",
     "output_type": "stream",
     "text": [
      "enter the number:  2\n"
     ]
    },
    {
     "name": "stdout",
     "output_type": "stream",
     "text": [
      "2 x 1 = 2\n",
      "2 x 2 = 4\n",
      "2 x 3 = 6\n",
      "2 x 4 = 8\n",
      "2 x 5 = 10\n",
      "2 x 6 = 12\n",
      "2 x 7 = 14\n",
      "2 x 8 = 16\n",
      "2 x 9 = 18\n",
      "2 x 10 = 20\n"
     ]
    }
   ],
   "source": [
    "n = int(input(\"enter the number: \"))\n",
    "i = 1\n",
    "\n",
    "while(i<11):\n",
    "    print(f\"{n} x {i} = {n * i}\")\n",
    "    i += 1"
   ]
  },
  {
   "cell_type": "markdown",
   "id": "834006c8-477c-4cb0-82b6-5509068fca25",
   "metadata": {},
   "source": [
    "4. Write a program to find whether a given number is prime or not."
   ]
  },
  {
   "cell_type": "code",
   "execution_count": 17,
   "id": "3897c21a-4515-4165-b956-12925919a266",
   "metadata": {},
   "outputs": [
    {
     "name": "stdin",
     "output_type": "stream",
     "text": [
      "enter the number:  4\n"
     ]
    },
    {
     "name": "stdout",
     "output_type": "stream",
     "text": [
      "number is not prime\n"
     ]
    }
   ],
   "source": [
    "n = int(input(\"enter the number: \"))\n",
    "for i in range(2, n):\n",
    "    if(n%i) == 0:\n",
    "        print(\"number is not prime\")\n",
    "        break\n",
    "else:\n",
    "    print(\"number is prime\")"
   ]
  },
  {
   "cell_type": "markdown",
   "id": "adc3a6d8-9011-408d-9e3d-c5a7b7e374ef",
   "metadata": {},
   "source": [
    "5. Write a program to find the sum of first n natural numbers using while loop. "
   ]
  },
  {
   "cell_type": "code",
   "execution_count": 30,
   "id": "adf44f68-b5cc-433d-b8cd-ab1fbac5cb8d",
   "metadata": {},
   "outputs": [
    {
     "name": "stdin",
     "output_type": "stream",
     "text": [
      "enter the number:  67\n"
     ]
    },
    {
     "name": "stdout",
     "output_type": "stream",
     "text": [
      "66\n"
     ]
    }
   ],
   "source": [
    "n = int(input(\"enter the number: \"))\n",
    "i = 1\n",
    "sum = 0\n",
    "while(i<n):\n",
    "    sum +=1\n",
    "    i+=1\n",
    "print(sum)"
   ]
  },
  {
   "cell_type": "markdown",
   "id": "75cde2a5-0ceb-4ede-ad5a-c64ccd041179",
   "metadata": {},
   "source": [
    "6. Write a program to calculate the factorial of a given number using for loop."
   ]
  },
  {
   "cell_type": "code",
   "execution_count": 34,
   "id": "727d51a5-9dc1-4c26-a961-832a6dec9fb9",
   "metadata": {},
   "outputs": [
    {
     "name": "stdin",
     "output_type": "stream",
     "text": [
      "enter the number:  6\n"
     ]
    },
    {
     "name": "stdout",
     "output_type": "stream",
     "text": [
      "the factorial of 6 is 1\n"
     ]
    }
   ],
   "source": [
    "#5! = 1 x 2 x 3 x 4 x 5\n",
    "n = int(input(\"enter the number: \"))\n",
    "product = 1\n",
    "for i in range(1, n+1):\n",
    "    product = product * 1\n",
    "print(f\"the factorial of {n} is {product}\")\n",
    "    "
   ]
  },
  {
   "cell_type": "markdown",
   "id": "63a7d25c-3f45-41c1-a7ec-d965aa3a68fc",
   "metadata": {},
   "source": [
    "7. Write a program to print the following star pattern. \n",
    "   * \n",
    "  *** \n",
    " ***** for n = 3 "
   ]
  },
  {
   "cell_type": "code",
   "execution_count": 46,
   "id": "205c2702-4c02-4f18-87c0-5b900e468ffa",
   "metadata": {},
   "outputs": [
    {
     "name": "stdin",
     "output_type": "stream",
     "text": [
      "enter the number:  3\n"
     ]
    },
    {
     "name": "stdout",
     "output_type": "stream",
     "text": [
      "  *\n",
      "\n",
      " ***\n",
      "\n",
      "*****\n",
      "\n"
     ]
    }
   ],
   "source": [
    "n = int(input(\"enter the number: \"))\n",
    "for i in range(1, n+1):\n",
    "    print(\" \"*(n-i), end=\"\")\n",
    "    print(\"*\"*(2*i-1), end=\"\")\n",
    "    print(\"\\n\")"
   ]
  },
  {
   "cell_type": "code",
   "execution_count": 48,
   "id": "2927ca7e-3f02-4bf6-991e-be6adc00372a",
   "metadata": {},
   "outputs": [
    {
     "name": "stdin",
     "output_type": "stream",
     "text": [
      "enter the number:  5\n"
     ]
    },
    {
     "name": "stdout",
     "output_type": "stream",
     "text": [
      "    *\n",
      "\n",
      "   ***\n",
      "\n",
      "  *****\n",
      "\n",
      " *******\n",
      "\n",
      "*********\n",
      "\n"
     ]
    }
   ],
   "source": [
    "n = int(input(\"enter the number: \"))\n",
    "for i in range(1, n+1):\n",
    "    print(\" \"*(n-i), end=\"\")\n",
    "    print(\"*\"*(2*i-1), end=\"\")\n",
    "    print(\"\\n\")"
   ]
  },
  {
   "cell_type": "markdown",
   "id": "bc5fa400-64ec-4418-af3a-a89567ae8061",
   "metadata": {},
   "source": [
    "8. Write a program to print the following star pattern: \n",
    "* \n",
    "** \n",
    "***      for n = 3 "
   ]
  },
  {
   "cell_type": "code",
   "execution_count": 56,
   "id": "1bcf06be-ddb3-4168-9f74-2de1ccf9719a",
   "metadata": {},
   "outputs": [
    {
     "name": "stdin",
     "output_type": "stream",
     "text": [
      "enter the number:  3\n"
     ]
    },
    {
     "name": "stdout",
     "output_type": "stream",
     "text": [
      "*\n",
      "\n",
      "**\n",
      "\n",
      "***\n",
      "\n"
     ]
    }
   ],
   "source": [
    "n = int(input(\"enter the number: \"))\n",
    "for i in range(1, n+1):\n",
    "    print(\"*\"*i, end=\"\")\n",
    "    print(\"\\n\")"
   ]
  },
  {
   "cell_type": "markdown",
   "id": "8ebcd55c-97ed-403c-83c4-ebe2c0416860",
   "metadata": {},
   "source": [
    "9. Write a program to print the following star pattern. \n",
    "* * * \n",
    "*   *   for n = 3 \n",
    "* * *  "
   ]
  },
  {
   "cell_type": "code",
   "execution_count": 61,
   "id": "453953db-10ff-487a-8069-278df7dfbb29",
   "metadata": {},
   "outputs": [
    {
     "name": "stdin",
     "output_type": "stream",
     "text": [
      "enter the number:  7\n"
     ]
    },
    {
     "name": "stdout",
     "output_type": "stream",
     "text": [
      "*******\n",
      "*     *\n",
      "*     *\n",
      "*     *\n",
      "*     *\n",
      "*     *\n",
      "*******\n"
     ]
    }
   ],
   "source": [
    "n = int(input(\"enter the number: \"))\n",
    "for i in range(1, n+1):\n",
    "    if(i==1 or i==n):\n",
    "        print(\"*\"*n, end=\"\")\n",
    "    else:\n",
    "        print(\"*\",end=\"\")\n",
    "        print(\" \"*(n-2),end=\"\")\n",
    "        print(\"*\", end =\"\")\n",
    "    print(\"\")"
   ]
  },
  {
   "cell_type": "markdown",
   "id": "4e0ee63a-f659-46c0-983e-3f14de25463d",
   "metadata": {},
   "source": [
    "10. Write a program to print multiplication table of n using for loops in reversed \n",
    "order."
   ]
  },
  {
   "cell_type": "code",
   "execution_count": 66,
   "id": "e76589a4-5520-47fc-955f-a482ec986a22",
   "metadata": {},
   "outputs": [
    {
     "name": "stdin",
     "output_type": "stream",
     "text": [
      "enter the number:  11\n"
     ]
    },
    {
     "name": "stdout",
     "output_type": "stream",
     "text": [
      "11 x 10 = 110\n",
      "11 x 9 = 99\n",
      "11 x 8 = 88\n",
      "11 x 7 = 77\n",
      "11 x 6 = 66\n",
      "11 x 5 = 55\n",
      "11 x 4 = 44\n",
      "11 x 3 = 33\n",
      "11 x 2 = 22\n",
      "11 x 1 = 11\n"
     ]
    }
   ],
   "source": [
    "n = int(input(\"enter the number: \"))\n",
    "for i in range(1, 11):\n",
    "    print(f\"{n} x {11-i} = {n*(11-i)}\")"
   ]
  },
  {
   "cell_type": "code",
   "execution_count": null,
   "id": "d36c110b-5eb5-4784-86c5-61e0cbe3c93a",
   "metadata": {},
   "outputs": [],
   "source": []
  }
 ],
 "metadata": {
  "kernelspec": {
   "display_name": "Python 3 (ipykernel)",
   "language": "python",
   "name": "python3"
  },
  "language_info": {
   "codemirror_mode": {
    "name": "ipython",
    "version": 3
   },
   "file_extension": ".py",
   "mimetype": "text/x-python",
   "name": "python",
   "nbconvert_exporter": "python",
   "pygments_lexer": "ipython3",
   "version": "3.12.7"
  }
 },
 "nbformat": 4,
 "nbformat_minor": 5
}
