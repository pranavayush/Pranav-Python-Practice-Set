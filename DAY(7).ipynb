{
 "cells": [
  {
   "cell_type": "code",
   "execution_count": 1,
   "id": "6445a52c-f835-49d3-8fad-7b41437a932c",
   "metadata": {},
   "outputs": [],
   "source": [
    "#FUNCTION AND RECURSION"
   ]
  },
  {
   "cell_type": "code",
   "execution_count": 3,
   "id": "c29efc19-767c-4ca0-829b-0e08dcbe2432",
   "metadata": {},
   "outputs": [
    {
     "name": "stdout",
     "output_type": "stream",
     "text": [
      "37.666666666666664\n"
     ]
    }
   ],
   "source": [
    "a = 12\n",
    "b = 45\n",
    "c = 56\n",
    "average = (a+b+c)/3\n",
    "print(average)"
   ]
  },
  {
   "cell_type": "code",
   "execution_count": 5,
   "id": "6a923f25-c70b-47ff-90cf-b37e2473273b",
   "metadata": {},
   "outputs": [
    {
     "name": "stdin",
     "output_type": "stream",
     "text": [
      "enter the number:  4\n",
      "enter the number:  5\n",
      "enter the number:  6\n"
     ]
    },
    {
     "name": "stdout",
     "output_type": "stream",
     "text": [
      "5.0\n"
     ]
    }
   ],
   "source": [
    "a = int(input(\"enter the number: \"))\n",
    "b = int(input(\"enter the number: \"))\n",
    "c = int(input(\"enter the number: \"))\n",
    "average = (a+b+c)/3\n",
    "print(average)"
   ]
  },
  {
   "cell_type": "code",
   "execution_count": 21,
   "id": "cd2fc3c8-baad-441b-9106-3bf00404df47",
   "metadata": {},
   "outputs": [
    {
     "name": "stdin",
     "output_type": "stream",
     "text": [
      "enter the number:  5\n",
      "enter the number:  6\n",
      "enter the number:  7\n"
     ]
    },
    {
     "name": "stdout",
     "output_type": "stream",
     "text": [
      "6.0\n"
     ]
    }
   ],
   "source": [
    "def avg():\n",
    "    a = int(input(\"enter the number: \"))\n",
    "    b = int(input(\"enter the number: \"))\n",
    "    c = int(input(\"enter the number: \"))\n",
    "    average = (a+b+c)/3\n",
    "    print(average)\n",
    "avg()"
   ]
  },
  {
   "cell_type": "code",
   "execution_count": 23,
   "id": "af496b3b-6a65-4727-b585-91c49a1974ea",
   "metadata": {},
   "outputs": [
    {
     "name": "stdin",
     "output_type": "stream",
     "text": [
      "enter the number:  2\n",
      "enter the number:  3\n",
      "enter the number:  4\n"
     ]
    },
    {
     "name": "stdout",
     "output_type": "stream",
     "text": [
      "3.0\n"
     ]
    },
    {
     "name": "stdin",
     "output_type": "stream",
     "text": [
      "enter the number:  5\n",
      "enter the number:  4\n",
      "enter the number:  3\n"
     ]
    },
    {
     "name": "stdout",
     "output_type": "stream",
     "text": [
      "4.0\n"
     ]
    },
    {
     "name": "stdin",
     "output_type": "stream",
     "text": [
      "enter the number:  2\n",
      "enter the number:  1\n",
      "enter the number:  2\n"
     ]
    },
    {
     "name": "stdout",
     "output_type": "stream",
     "text": [
      "1.6666666666666667\n"
     ]
    }
   ],
   "source": [
    "def avg():\n",
    "    a = int(input(\"enter the number: \"))\n",
    "    b = int(input(\"enter the number: \"))\n",
    "    c = int(input(\"enter the number: \"))\n",
    "    average = (a+b+c)/3\n",
    "    print(average)\n",
    "avg()\n",
    "avg()\n",
    "avg()"
   ]
  },
  {
   "cell_type": "code",
   "execution_count": 29,
   "id": "87bd359e-e6b8-4bbd-ab77-afc79f69e08d",
   "metadata": {},
   "outputs": [
    {
     "name": "stdin",
     "output_type": "stream",
     "text": [
      "enter the number:  1\n",
      "enter the number:  2\n",
      "enter the number:  3\n"
     ]
    },
    {
     "name": "stdout",
     "output_type": "stream",
     "text": [
      "2.0\n",
      "thank you\n"
     ]
    },
    {
     "name": "stdin",
     "output_type": "stream",
     "text": [
      "enter the number:  4\n",
      "enter the number:  5\n",
      "enter the number:  6\n"
     ]
    },
    {
     "name": "stdout",
     "output_type": "stream",
     "text": [
      "5.0\n",
      "thank you\n"
     ]
    },
    {
     "name": "stdin",
     "output_type": "stream",
     "text": [
      "enter the number:  7\n",
      "enter the number:  8\n",
      "enter the number:  9\n"
     ]
    },
    {
     "name": "stdout",
     "output_type": "stream",
     "text": [
      "8.0\n"
     ]
    }
   ],
   "source": [
    "def avg(): # function defination\n",
    "    a = int(input(\"enter the number: \"))\n",
    "    b = int(input(\"enter the number: \"))\n",
    "    c = int(input(\"enter the number: \"))\n",
    "    average = (a+b+c)/3\n",
    "    print(average)\n",
    "avg() # function call\n",
    "print(\"thank you\")\n",
    "avg()\n",
    "print(\"thank you\")\n",
    "avg()"
   ]
  },
  {
   "cell_type": "markdown",
   "id": "b01e1ca6-c06c-42c1-970b-9575fc9da4e3",
   "metadata": {},
   "source": [
    "Quick Quiz:  Write a program to greet a user with “Good day” using functions. "
   ]
  },
  {
   "cell_type": "code",
   "execution_count": 34,
   "id": "950c9b90-306a-48c4-9e10-4f573020768d",
   "metadata": {},
   "outputs": [
    {
     "name": "stdout",
     "output_type": "stream",
     "text": [
      "good day\n"
     ]
    }
   ],
   "source": [
    "def goodday():\n",
    "    print(\"good day\")\n",
    "goodday()"
   ]
  },
  {
   "cell_type": "code",
   "execution_count": 36,
   "id": "0d5dca65-599b-426b-828f-42f9b6cc94b6",
   "metadata": {},
   "outputs": [],
   "source": [
    "#function with arguement"
   ]
  },
  {
   "cell_type": "code",
   "execution_count": 38,
   "id": "b522545d-c1ab-41d6-9018-c97638c9a163",
   "metadata": {},
   "outputs": [
    {
     "name": "stdout",
     "output_type": "stream",
     "text": [
      "thankyou, pranav\n"
     ]
    }
   ],
   "source": [
    "def thankyou(name):\n",
    "    print(\"thankyou, \"+name)\n",
    "thankyou(\"pranav\")"
   ]
  },
  {
   "cell_type": "code",
   "execution_count": 46,
   "id": "aa7ed80d-002e-4447-a6af-2805862dfe34",
   "metadata": {},
   "outputs": [
    {
     "name": "stdout",
     "output_type": "stream",
     "text": [
      "thankyou, pranav\n",
      "hello\n",
      "thankyou, satyam\n",
      "hello\n",
      "thankyou, chacha\n",
      "hi beta\n"
     ]
    }
   ],
   "source": [
    "def thankyou(name, ending):\n",
    "    print(\"thankyou, \"+name)\n",
    "    print(ending)\n",
    "thankyou(\"pranav\", \"hello\")\n",
    "thankyou(\"satyam\", \"hello\")\n",
    "thankyou(\"chacha\", \"hi beta\")\n"
   ]
  },
  {
   "cell_type": "code",
   "execution_count": 48,
   "id": "57182440-6888-4806-8674-44108e9f514d",
   "metadata": {},
   "outputs": [],
   "source": [
    "#default argue "
   ]
  },
  {
   "cell_type": "code",
   "execution_count": 50,
   "id": "a81d420a-3ced-4d1b-8275-9af7c5a816ac",
   "metadata": {},
   "outputs": [
    {
     "name": "stdout",
     "output_type": "stream",
     "text": [
      "goodday, harry\n",
      "thanks\n",
      "goodday, rohan\n",
      "thankyou\n"
     ]
    }
   ],
   "source": [
    "def goodday(name, ending=\"thankyou\"):\n",
    "    print(f\"goodday, {name}\")\n",
    "    print(ending)\n",
    "goodday(\"harry\",\"thanks\")\n",
    "goodday(\"rohan\")"
   ]
  },
  {
   "cell_type": "code",
   "execution_count": 52,
   "id": "eb498644-f969-4f8c-a9b9-f2b15c6cf784",
   "metadata": {},
   "outputs": [],
   "source": [
    "#recursion"
   ]
  },
  {
   "cell_type": "code",
   "execution_count": 64,
   "id": "7507886c-b449-48d4-8404-9ae2ca299d2a",
   "metadata": {},
   "outputs": [
    {
     "name": "stdin",
     "output_type": "stream",
     "text": [
      "enter the number:  6\n"
     ]
    },
    {
     "name": "stdout",
     "output_type": "stream",
     "text": [
      "the factorial of this number is:720\n"
     ]
    }
   ],
   "source": [
    "def factorial(n):\n",
    "    if(n==1 or n==0):\n",
    "        return 1\n",
    "    return n * factorial(n-1)\n",
    "\n",
    "n = int(input(\"enter the number: \"))\n",
    "print(f\"the factorial of this number is:{factorial(n)}\")"
   ]
  },
  {
   "cell_type": "code",
   "execution_count": 66,
   "id": "824f8548-c395-411a-9992-d01c903a8351",
   "metadata": {},
   "outputs": [],
   "source": [
    "#practice set"
   ]
  },
  {
   "cell_type": "markdown",
   "id": "30a4ef4a-8e52-416e-b383-373465c75937",
   "metadata": {},
   "source": [
    "1. Write a program using functions to find greatest of three numbers."
   ]
  },
  {
   "cell_type": "code",
   "execution_count": 69,
   "id": "aa267434-7a95-405a-887e-b30e76c44fff",
   "metadata": {},
   "outputs": [
    {
     "name": "stdout",
     "output_type": "stream",
     "text": [
      "3\n"
     ]
    }
   ],
   "source": [
    "a = 1\n",
    "b = 2\n",
    "c = 3\n",
    "def greatest(a, b, c):\n",
    "    if(a>b and a>c):\n",
    "        return a\n",
    "    elif(b>a and b>c):\n",
    "        return b\n",
    "    elif(c>b and c>a):\n",
    "        return c\n",
    "print(greatest(a,b,c))\n",
    "    "
   ]
  },
  {
   "cell_type": "markdown",
   "id": "a0baa3d8-5032-47a2-ac22-5a153a4cfabf",
   "metadata": {},
   "source": [
    "2. Write a python program using function to convert Celsius to Fahrenheit."
   ]
  },
  {
   "cell_type": "code",
   "execution_count": 79,
   "id": "ad355ba3-2e51-4d4c-ad73-01e02ac62fdd",
   "metadata": {},
   "outputs": [
    {
     "name": "stdin",
     "output_type": "stream",
     "text": [
      "enter the number in F:  34\n"
     ]
    },
    {
     "name": "stdout",
     "output_type": "stream",
     "text": [
      "1.1111111111111112 ° C\n"
     ]
    }
   ],
   "source": [
    "def f_to_c(f):\n",
    "    return 5*(f-32)/9\n",
    "f = int(input(\"enter the number in F: \"))\n",
    "c = f_to_c(f)\n",
    "print(f\"{f_to_c(f)} ° C\")"
   ]
  },
  {
   "cell_type": "markdown",
   "id": "d2f1a960-90aa-4ab6-a3c8-7ba9ae87162e",
   "metadata": {},
   "source": [
    "3. How do you prevent a python print() function to print a new line at the end."
   ]
  },
  {
   "cell_type": "code",
   "execution_count": 82,
   "id": "a22cecce-0cd2-4190-92cb-549aaf71d3f2",
   "metadata": {},
   "outputs": [
    {
     "name": "stdout",
     "output_type": "stream",
     "text": [
      "a\n",
      "b\n",
      "cd"
     ]
    }
   ],
   "source": [
    "print(\"a\")\n",
    "print(\"b\")\n",
    "print(\"c\",end=\"\")\n",
    "print(\"d\",end=\"\")"
   ]
  },
  {
   "cell_type": "markdown",
   "id": "1fe33dad-1cc0-4865-9d70-5ab066762f52",
   "metadata": {},
   "source": [
    "4. Write a recursive function to calculate the sum of first n natural numbers."
   ]
  },
  {
   "cell_type": "code",
   "execution_count": 85,
   "id": "c19e52ae-c3e6-438c-825b-c4dc17dcba9e",
   "metadata": {},
   "outputs": [
    {
     "name": "stdout",
     "output_type": "stream",
     "text": [
      "10\n"
     ]
    }
   ],
   "source": [
    "def sum(n):\n",
    "    if(n==1):\n",
    "        return 1\n",
    "    return sum(n-1) + n\n",
    "print(sum(4))"
   ]
  },
  {
   "cell_type": "markdown",
   "id": "bea331bc-593d-4b8f-8900-616fcde26576",
   "metadata": {},
   "source": [
    "5. Write a python function to print first n lines of the following pattern: \n",
    "*** \n",
    "**               \n",
    "* - for n = 3"
   ]
  },
  {
   "cell_type": "code",
   "execution_count": 92,
   "id": "39c20121-ca52-4c1d-be17-5114eb68a24d",
   "metadata": {},
   "outputs": [
    {
     "name": "stdout",
     "output_type": "stream",
     "text": [
      "***\n",
      "**\n",
      "*\n"
     ]
    }
   ],
   "source": [
    "def pattern(n):\n",
    "    if(n==0):\n",
    "        return\n",
    "    print(\"*\"*n)\n",
    "    pattern(n-1)\n",
    "pattern(3)\n",
    "    "
   ]
  },
  {
   "cell_type": "markdown",
   "id": "e68ffc1f-e39e-43fa-aa51-0b5dbf241628",
   "metadata": {},
   "source": [
    "6. Write a python function which converts inches to cms."
   ]
  },
  {
   "cell_type": "code",
   "execution_count": 98,
   "id": "08b4800e-094f-47ee-9fde-6aa4941a0ea0",
   "metadata": {},
   "outputs": [
    {
     "name": "stdin",
     "output_type": "stream",
     "text": [
      "enter value in inches:  2\n"
     ]
    },
    {
     "name": "stdout",
     "output_type": "stream",
     "text": [
      "The corresponding value in cms is 5.08\n"
     ]
    }
   ],
   "source": [
    "def inch_to_cms(inch):\n",
    "    return inch * 2.54\n",
    "n = int(input(\"enter value in inches: \"))\n",
    "print(f\"The corresponding value in cms is {inch_to_cms(n)}\")"
   ]
  },
  {
   "cell_type": "markdown",
   "id": "8b643818-f85c-4fec-a171-565c17c4ae38",
   "metadata": {},
   "source": [
    "7. Write a python function to remove a given word from a list ad strip it at the same \n",
    "time. "
   ]
  },
  {
   "cell_type": "code",
   "execution_count": 111,
   "id": "ffbfff6f-e2cd-4dcf-8c83-418156e7f66d",
   "metadata": {},
   "outputs": [
    {
     "name": "stdout",
     "output_type": "stream",
     "text": [
      "['satyam', 'shubh', 'satyam']\n"
     ]
    }
   ],
   "source": [
    "def rem(l, word):\n",
    "    n = []\n",
    "    for item in l:\n",
    "        if not(item == word):\n",
    "            n.append(item.strip(word))\n",
    "    return n\n",
    "l = [\"satyam\", \"shubh\", \"satyam\", \"an\"]\n",
    "print(rem(l, \"an\"))\n"
   ]
  },
  {
   "cell_type": "markdown",
   "id": "da23d422-3fd0-45f8-825d-1fb600cecc51",
   "metadata": {},
   "source": [
    "8. Write a python function to print multiplication table of a given number. "
   ]
  },
  {
   "cell_type": "code",
   "execution_count": 116,
   "id": "e440596c-50e7-4749-a747-e539e414f3a6",
   "metadata": {},
   "outputs": [
    {
     "name": "stdout",
     "output_type": "stream",
     "text": [
      "10 x 1 = 10\n",
      "10 x 2 = 20\n",
      "10 x 3 = 30\n",
      "10 x 4 = 40\n",
      "10 x 5 = 50\n",
      "10 x 6 = 60\n",
      "10 x 7 = 70\n",
      "10 x 8 = 80\n",
      "10 x 9 = 90\n",
      "10 x 10 = 100\n"
     ]
    }
   ],
   "source": [
    "def multiply(n):\n",
    "    for i in range (1, n+1):\n",
    "        print(f\"{n} x {i} = {n*i}\")\n",
    "multiply(10)"
   ]
  },
  {
   "cell_type": "code",
   "execution_count": null,
   "id": "e9760b21-21ca-456a-bfe7-8a06c575af46",
   "metadata": {},
   "outputs": [],
   "source": []
  }
 ],
 "metadata": {
  "kernelspec": {
   "display_name": "Python 3 (ipykernel)",
   "language": "python",
   "name": "python3"
  },
  "language_info": {
   "codemirror_mode": {
    "name": "ipython",
    "version": 3
   },
   "file_extension": ".py",
   "mimetype": "text/x-python",
   "name": "python",
   "nbconvert_exporter": "python",
   "pygments_lexer": "ipython3",
   "version": "3.12.7"
  }
 },
 "nbformat": 4,
 "nbformat_minor": 5
}
