{
 "cells": [
  {
   "cell_type": "code",
   "execution_count": 1,
   "id": "3668a8f6-700c-4869-920f-5a200ad67649",
   "metadata": {},
   "outputs": [],
   "source": [
    "# OBJECT ORIENTED PROGRAM"
   ]
  },
  {
   "cell_type": "code",
   "execution_count": 3,
   "id": "16092e19-4dcf-4138-a35c-1edfe34e8d31",
   "metadata": {},
   "outputs": [],
   "source": [
    "# class "
   ]
  },
  {
   "cell_type": "code",
   "execution_count": 11,
   "id": "34244d70-4f73-4916-aba6-63947eb9a119",
   "metadata": {},
   "outputs": [
    {
     "name": "stdout",
     "output_type": "stream",
     "text": [
      "python 200000\n"
     ]
    }
   ],
   "source": [
    "class Employee:\n",
    "    langauge = \"python\"\n",
    "    salary = 200000\n",
    "pranav = Employee()\n",
    "print(pranav.langauge, pranav.salary)\n"
   ]
  },
  {
   "cell_type": "code",
   "execution_count": 13,
   "id": "4546d564-d97b-48d1-9d86-bcba1f1c7b0d",
   "metadata": {},
   "outputs": [
    {
     "name": "stdout",
     "output_type": "stream",
     "text": [
      "python 200000\n",
      "python 200000\n"
     ]
    }
   ],
   "source": [
    "class Employee:\n",
    "    langauge = \"python\"\n",
    "    salary = 200000\n",
    "pranav = Employee()\n",
    "print(pranav.langauge, pranav.salary)\n",
    "shubham = Employee()\n",
    "print(shubham.langauge, shubham.salary)"
   ]
  },
  {
   "cell_type": "code",
   "execution_count": null,
   "id": "c45327e5-d095-4884-9703-cc900ea3b994",
   "metadata": {},
   "outputs": [],
   "source": [
    "#class attribute # instance attribute"
   ]
  },
  {
   "cell_type": "code",
   "execution_count": 15,
   "id": "68f0d646-b7c9-4edb-91e6-50863fc932c8",
   "metadata": {},
   "outputs": [
    {
     "name": "stdout",
     "output_type": "stream",
     "text": [
      "pranav python 200000\n",
      "shubham python 200000\n"
     ]
    }
   ],
   "source": [
    "class Employee:\n",
    "    langauge = \"python\" # this is  class atribute\n",
    "    salary = 200000\n",
    "pranav = Employee()\n",
    "pranav.name = \"pranav\" # this is an instance attribute\n",
    "print(pranav.name, pranav.langauge, pranav.salary)\n",
    "shubham = Employee()\n",
    "shubham.name = \"shubham\"\n",
    "print(shubham.name, shubham.langauge, shubham.salary)\n",
    "\n",
    "# Here name is instance object attribute and salary and langauge are class atribute as they directly belong to the class"
   ]
  },
  {
   "cell_type": "code",
   "execution_count": 17,
   "id": "c7b01b74-9c65-4b9f-b26c-35adb0fc29fa",
   "metadata": {},
   "outputs": [],
   "source": [
    "# instance vs class attribute "
   ]
  },
  {
   "cell_type": "code",
   "execution_count": 23,
   "id": "f283fdec-b32e-4b9d-a772-4630ae58a061",
   "metadata": {},
   "outputs": [
    {
     "name": "stdout",
     "output_type": "stream",
     "text": [
      "java 200000\n"
     ]
    }
   ],
   "source": [
    "class Employee:\n",
    "    langauge = \"python\"\n",
    "    salary = 200000\n",
    "pranav = Employee()\n",
    "pranav.language = \"java\" # this is an instance\n",
    "print(pranav.language, pranav.salary)\n"
   ]
  },
  {
   "cell_type": "code",
   "execution_count": 25,
   "id": "3f300347-3675-4ba4-aeb5-709aeb940c9b",
   "metadata": {},
   "outputs": [],
   "source": [
    "#self parameter"
   ]
  },
  {
   "cell_type": "code",
   "execution_count": 29,
   "id": "3c78319e-960c-49c6-b9c9-d4804fccca60",
   "metadata": {},
   "outputs": [
    {
     "name": "stdout",
     "output_type": "stream",
     "text": [
      "Good morning\n",
      "The language is Python. The salary is 1200000\n"
     ]
    }
   ],
   "source": [
    "class Employee: \n",
    "    language = \"Python\" # This is a class attribute\n",
    "    salary = 1200000\n",
    "\n",
    "    def getInfo(self):\n",
    "        print(f\"The language is {self.language}. The salary is {self.salary}\")\n",
    "\n",
    "    @staticmethod #as a function jo self nhin lega jisme object ki koi prop nhi chaiye\n",
    "    def greet():\n",
    "        print(\"Good morning\")\n",
    "\n",
    "\n",
    "pranav = Employee()\n",
    "# harry.language = \"Java\" # This is an instance attribute\n",
    "pranav.greet()\n",
    "pranav.getInfo() \n",
    "# Employee.getInfo(pranav)"
   ]
  },
  {
   "cell_type": "code",
   "execution_count": 31,
   "id": "50b31440-b90e-41b2-b58a-b6c44a71dd5d",
   "metadata": {},
   "outputs": [],
   "source": [
    "#init constuctor"
   ]
  },
  {
   "cell_type": "code",
   "execution_count": 47,
   "id": "b9c0a80f-2bac-487e-b945-a36144e96b35",
   "metadata": {},
   "outputs": [
    {
     "name": "stdout",
     "output_type": "stream",
     "text": [
      "I am creating an object\n",
      "pranav 300000 Java\n"
     ]
    }
   ],
   "source": [
    "class Employee: \n",
    "    language = \"Python\" # This is a class attribute\n",
    "    salary = 1200000\n",
    "\n",
    "    def __init__(self, name, salary, language): # dunder method which is automatically called\n",
    "        self.name = name\n",
    "        self.salary = salary\n",
    "        self.language = language\n",
    "        print(\"I am creating an object\")\n",
    " \n",
    " \n",
    "    def getInfo(self):\n",
    "        print(f\"The language is {self.language}. The salary is {self.salary}\")\n",
    "\n",
    "    @staticmethod\n",
    "    def greet():\n",
    "        print(\"Good morning\")\n",
    "\n",
    "\n",
    "pranav = Employee(\"pranav\", 300000, \"Java\") \n",
    "# pranav.name = \"pranav\"\n",
    "print(pranav.name, pranav.salary, pranav.language)\n",
    "\n"
   ]
  },
  {
   "cell_type": "code",
   "execution_count": 49,
   "id": "9e7ebc51-c325-4eac-a6ac-8e806e15b817",
   "metadata": {},
   "outputs": [],
   "source": [
    "# PRACTICE SET"
   ]
  },
  {
   "cell_type": "markdown",
   "id": "d2f19d59-fd37-4380-b3d2-c3dcbf695c56",
   "metadata": {},
   "source": [
    "1. Create a class “Programmer” for storing information of few programmers \n",
    "working at Microsoft. "
   ]
  },
  {
   "cell_type": "code",
   "execution_count": 62,
   "id": "481c7cbf-76c4-470d-8ef3-7ee27147a97f",
   "metadata": {},
   "outputs": [
    {
     "name": "stdout",
     "output_type": "stream",
     "text": [
      "pranav 120000 274702 microsoft\n",
      "rohan 120000 201308 microsoft\n"
     ]
    }
   ],
   "source": [
    "class Programmer:\n",
    "    company = \"microsoft\"\n",
    "    def __init__(self, name, salary, pin):\n",
    "        self.name = name\n",
    "        self.salary = salary\n",
    "        self.pin = pin\n",
    "p = Programmer(\"pranav\", 120000, 274702)\n",
    "print(p.name, p.salary, p.pin, p.company)\n",
    "r = Programmer(\"rohan\", 120000, 201308)\n",
    "print(r.name, r.salary, r.pin, r.company)"
   ]
  },
  {
   "cell_type": "markdown",
   "id": "754dce7c-0061-4946-9e01-77f941e5fece",
   "metadata": {},
   "source": [
    "2. Write a class “Calculator” capable of finding square, cube and square root of a \n",
    "number. "
   ]
  },
  {
   "cell_type": "code",
   "execution_count": 67,
   "id": "c97b0a2a-1403-4d66-9328-836802848be8",
   "metadata": {},
   "outputs": [
    {
     "name": "stdout",
     "output_type": "stream",
     "text": [
      "The square is 16\n",
      "The square is 64\n",
      "The square is 2.0\n"
     ]
    }
   ],
   "source": [
    "class calculator:\n",
    "    def __init__(self, n):\n",
    "        self.n = n\n",
    "    def square(self):\n",
    "        print(f\"The square is {self.n*self.n}\")\n",
    "    def cube(self):\n",
    "        print(f\"The square is {self.n*self.n*self.n}\")\n",
    "    def squareroot(self):\n",
    "        print(f\"The square is {self.n**1/2}\")\n",
    "a = calculator(4)\n",
    "a.square()\n",
    "a.cube()\n",
    "a.squareroot()"
   ]
  },
  {
   "cell_type": "markdown",
   "id": "1e002cdc-1357-45e0-8f67-3f60fe2305a9",
   "metadata": {},
   "source": [
    "3. Create a class with a class attribute a; create an object from it and set ‘a’ \n",
    "directly using ‘object.a = 0’. Does this change the class attribute?"
   ]
  },
  {
   "cell_type": "code",
   "execution_count": 78,
   "id": "87425f3a-cd8c-49c1-9939-83f8b47afe6f",
   "metadata": {},
   "outputs": [
    {
     "name": "stdout",
     "output_type": "stream",
     "text": [
      "4\n",
      "0\n"
     ]
    },
    {
     "ename": "NameError",
     "evalue": "name 'demo' is not defined",
     "output_type": "error",
     "traceback": [
      "\u001b[1;31m---------------------------------------------------------------------------\u001b[0m",
      "\u001b[1;31mNameError\u001b[0m                                 Traceback (most recent call last)",
      "Cell \u001b[1;32mIn[78], line 7\u001b[0m\n\u001b[0;32m      5\u001b[0m o\u001b[38;5;241m.\u001b[39ma \u001b[38;5;241m=\u001b[39m \u001b[38;5;241m0\u001b[39m \u001b[38;5;66;03m#instance attribute is set \u001b[39;00m\n\u001b[0;32m      6\u001b[0m \u001b[38;5;28mprint\u001b[39m(o\u001b[38;5;241m.\u001b[39ma) \u001b[38;5;66;03m#print the instance attribute bcoz instance attribute is presnt\u001b[39;00m\n\u001b[1;32m----> 7\u001b[0m \u001b[38;5;28mprint\u001b[39m(demo\u001b[38;5;241m.\u001b[39ma)\n",
      "\u001b[1;31mNameError\u001b[0m: name 'demo' is not defined"
     ]
    }
   ],
   "source": [
    "class Demo:\n",
    "    a = 4\n",
    "o = Demo()\n",
    "print(o.a) #print the class attribute bcoz instance attribute is not present\n",
    "o.a = 0 #instance attribute is set \n",
    "print(o.a) #print the instance attribute bcoz instance attribute is presnt\n",
    "print(demo.a) #prints the class attribute"
   ]
  },
  {
   "cell_type": "markdown",
   "id": "bd5f4010-b715-4f38-b5ee-161ca5c0c5d3",
   "metadata": {},
   "source": [
    "4. Add a static method in problem 2, to greet the user with hello. "
   ]
  },
  {
   "cell_type": "code",
   "execution_count": 83,
   "id": "94b3ca16-76e8-455b-b7aa-e189bff35650",
   "metadata": {},
   "outputs": [
    {
     "name": "stdout",
     "output_type": "stream",
     "text": [
      "The square is 16\n",
      "The square is 64\n",
      "The square is 2.0\n"
     ]
    }
   ],
   "source": [
    "class calculator:\n",
    "    def __init__(self, n):\n",
    "        self.n = n\n",
    "    def square(self):\n",
    "        print(f\"The square is {self.n*self.n}\")\n",
    "    def cube(self):\n",
    "        print(f\"The square is {self.n*self.n*self.n}\")\n",
    "    def squareroot(self):\n",
    "        print(f\"The square is {self.n**1/2}\")\n",
    "    @staticmethod\n",
    "    def hello():\n",
    "        print(\"hello there!\")\n",
    "        \n",
    "a = calculator(4)\n",
    "a.square()\n",
    "a.cube()\n",
    "a.squareroot()"
   ]
  },
  {
   "cell_type": "markdown",
   "id": "06948151-54dd-43ab-9e02-b08c0a24cf0c",
   "metadata": {},
   "source": [
    "5. Write a Class ‘Train’ which has methods to book a ticket, get status (no of seats) \n",
    "and get fare information of train running under Indian Railways."
   ]
  },
  {
   "cell_type": "code",
   "execution_count": 114,
   "id": "b2e24ca0-1a6b-4519-88e2-29c612bdb135",
   "metadata": {},
   "outputs": [
    {
     "name": "stdout",
     "output_type": "stream",
     "text": [
      "Ticket is booked in train no: 12399 from Rampur to Delhi\n",
      "Train no: 12399 is running on time\n",
      "Ticket fare in train no: 12399 from Rampur to Delhi is 1161\n"
     ]
    }
   ],
   "source": [
    "from random import randint\n",
    "\n",
    "class Train:\n",
    "\n",
    "    def __init__(self, trainNo):\n",
    "        self.trainNo = trainNo\n",
    "\n",
    "    def book(self, fro, to):\n",
    "        print(f\"Ticket is booked in train no: {self.trainNo} from {fro} to {to}\") \n",
    "\n",
    "    def getStatus(self):\n",
    "        print(f\"Train no: {self.trainNo} is running on time\") \n",
    "\n",
    "    def getFare(self, fro, to):\n",
    "        print(f\"Ticket fare in train no: {self.trainNo} from {fro} to {to} is {randint(222, 5555)}\")  \n",
    "\n",
    "\n",
    "t = Train(12399)\n",
    "t.book(\"Rampur\", \"Delhi\")\n",
    "t.getStatus()\n",
    "t.getFare(\"Rampur\", \"Delhi\")"
   ]
  },
  {
   "cell_type": "markdown",
   "id": "3891012a-3487-4826-a830-ba7c49051339",
   "metadata": {},
   "source": [
    "6. Can you change the self-parameter inside a class to something else (say \n",
    "“harry”). Try changing self to “slf” or “harry” and see the effects."
   ]
  },
  {
   "cell_type": "code",
   "execution_count": 125,
   "id": "7d881d9a-9bce-4bc2-aaba-c0efa9f1777f",
   "metadata": {},
   "outputs": [
    {
     "name": "stdout",
     "output_type": "stream",
     "text": [
      "Ticket is booked in train no: 12399 from Rampur to Delhi\n",
      "Train no: 12399 is running on time\n",
      "Ticket fare in train no: 12399 from Rampur to Delhi is 2880\n"
     ]
    }
   ],
   "source": [
    "from random import randint\n",
    "\n",
    "class Train:\n",
    "\n",
    "    def __init__(slf, trainNo):\n",
    "        slf.trainNo = trainNo\n",
    "\n",
    "    def book(slf, fro, to):\n",
    "        print(f\"Ticket is booked in train no: {slf.trainNo} from {fro} to {to}\") \n",
    "\n",
    "    def getStatus(slf):\n",
    "        print(f\"Train no: {slf.trainNo} is running on time\") \n",
    "\n",
    "    def getFare(slf, fro, to):\n",
    "        print(f\"Ticket fare in train no: {slf.trainNo} from {fro} to {to} is {randint(222, 5555)}\")  \n",
    "\n",
    "\n",
    "t = Train(12399)\n",
    "t.book(\"Rampur\", \"Delhi\")\n",
    "t.getStatus()\n",
    "t.getFare(\"Rampur\", \"Delhi\")"
   ]
  },
  {
   "cell_type": "code",
   "execution_count": null,
   "id": "7b61eba1-30af-461e-a0c4-3b917d9bd67f",
   "metadata": {},
   "outputs": [],
   "source": []
  }
 ],
 "metadata": {
  "kernelspec": {
   "display_name": "Python 3 (ipykernel)",
   "language": "python",
   "name": "python3"
  },
  "language_info": {
   "codemirror_mode": {
    "name": "ipython",
    "version": 3
   },
   "file_extension": ".py",
   "mimetype": "text/x-python",
   "name": "python",
   "nbconvert_exporter": "python",
   "pygments_lexer": "ipython3",
   "version": "3.12.7"
  }
 },
 "nbformat": 4,
 "nbformat_minor": 5
}
