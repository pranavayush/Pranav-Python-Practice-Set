{
 "cells": [
  {
   "cell_type": "code",
   "execution_count": null,
   "id": "42c98070-dfc2-428b-8c8f-3e09107f4bed",
   "metadata": {},
   "outputs": [],
   "source": [
    "#variable.py"
   ]
  },
  {
   "cell_type": "code",
   "execution_count": 22,
   "id": "b9f2a148-9741-45dc-92ef-b0843537c942",
   "metadata": {},
   "outputs": [
    {
     "name": "stdout",
     "output_type": "stream",
     "text": [
      "3\n"
     ]
    }
   ],
   "source": [
    "a =1 \n",
    "b = 2\n",
    "print(a+b)"
   ]
  },
  {
   "cell_type": "code",
   "execution_count": 24,
   "id": "6dcc0550-0db2-4f12-b488-e21ddc4550da",
   "metadata": {},
   "outputs": [
    {
     "name": "stdout",
     "output_type": "stream",
     "text": [
      "satyam\n"
     ]
    }
   ],
   "source": [
    "a = 3\n",
    "b = 4\n",
    "name = \"satyam\"\n",
    "print (name)"
   ]
  },
  {
   "cell_type": "code",
   "execution_count": 26,
   "id": "8350b1d8-e36c-46f8-aa56-6ad46fb5c62a",
   "metadata": {},
   "outputs": [],
   "source": [
    "#datatypes.py"
   ]
  },
  {
   "cell_type": "code",
   "execution_count": null,
   "id": "af37d63b-79c6-478b-a8c4-89c0bf8961f5",
   "metadata": {},
   "outputs": [],
   "source": [
    "a = 1 # a is a integer\n",
    "b = 5.22 # b is a floating point numbers\n",
    "c = \"pranav\" # c is a strings\n",
    "d = False or False # d is a boolean variable\n",
    "e = none # e is none type variable"
   ]
  },
  {
   "cell_type": "code",
   "execution_count": null,
   "id": "25d3f9a3-4059-4003-ad3e-2ba5c3a72eb7",
   "metadata": {},
   "outputs": [],
   "source": [
    "#rules_variable.py"
   ]
  },
  {
   "cell_type": "code",
   "execution_count": null,
   "id": "ec5857a7-52d2-469d-a25b-e4b89bfa5e07",
   "metadata": {},
   "outputs": [],
   "source": [
    "a = 23\n",
    "aaa = 435\n",
    "harry = 34\n",
    "sameer = 45\n",
    "_sameer = 87\n",
    "@sameer = 56 ( nhin chalega) # invalid due to (@)symbol\n",
    "sam@eer = 45 # invalid due (@) symbol"
   ]
  },
  {
   "cell_type": "code",
   "execution_count": null,
   "id": "851b2ac6-d23b-4a9a-88c2-dff099e95170",
   "metadata": {},
   "outputs": [],
   "source": [
    "#operators.py\n"
   ]
  },
  {
   "cell_type": "code",
   "execution_count": 30,
   "id": "f303d757-b7b4-4488-8197-3b77ec0ff834",
   "metadata": {},
   "outputs": [
    {
     "name": "stdout",
     "output_type": "stream",
     "text": [
      "38\n"
     ]
    }
   ],
   "source": [
    "#airthmetic operator\n",
    "a = 4\n",
    "b = 34\n",
    "c = a+b\n",
    "print(c)"
   ]
  },
  {
   "cell_type": "code",
   "execution_count": 32,
   "id": "57c7b62a-bb34-41ce-a9a1-18aad58e3f47",
   "metadata": {},
   "outputs": [
    {
     "name": "stdout",
     "output_type": "stream",
     "text": [
      "2\n",
      "9\n"
     ]
    }
   ],
   "source": [
    "#assignment operator\n",
    "a = 4-2 #assign 4-2 in a\n",
    "print(a)\n",
    "b = 6\n",
    "b += 3 # increment the value of b by 3 and then assign it to b\n",
    "print(b)"
   ]
  },
  {
   "cell_type": "code",
   "execution_count": 36,
   "id": "baf79556-549e-4df6-af7c-5fcb98343800",
   "metadata": {},
   "outputs": [
    {
     "name": "stdout",
     "output_type": "stream",
     "text": [
      "2\n",
      "3\n"
     ]
    }
   ],
   "source": [
    "#assignment operator\n",
    "a = 4-2 #assign 4-2 in a\n",
    "print(a)\n",
    "b = 6\n",
    "b -= 3 # decrement the value of b by 3 and then assign it to b\n",
    "print(b)"
   ]
  },
  {
   "cell_type": "code",
   "execution_count": 38,
   "id": "85731895-f2de-446f-9476-0aff14a98508",
   "metadata": {},
   "outputs": [
    {
     "name": "stdout",
     "output_type": "stream",
     "text": [
      "True\n"
     ]
    }
   ],
   "source": [
    "#comparison operator\n",
    "d = 5<8\n",
    "print(d)"
   ]
  },
  {
   "cell_type": "code",
   "execution_count": 40,
   "id": "ce4f1e22-d98d-4999-a508-9bb11686e5c3",
   "metadata": {},
   "outputs": [
    {
     "name": "stdout",
     "output_type": "stream",
     "text": [
      "False\n"
     ]
    }
   ],
   "source": [
    "#comparison operator\n",
    "d = 5>8\n",
    "print(d)"
   ]
  },
  {
   "cell_type": "code",
   "execution_count": 46,
   "id": "09427b77-4d5e-4f04-8efd-2f93f8d4e644",
   "metadata": {},
   "outputs": [
    {
     "name": "stdout",
     "output_type": "stream",
     "text": [
      "False\n"
     ]
    }
   ],
   "source": [
    "#comparison operator\n",
    "d = 5==8\n",
    "print(d)"
   ]
  },
  {
   "cell_type": "code",
   "execution_count": 56,
   "id": "31952a0d-4be3-4ff2-b428-0c2431a13b24",
   "metadata": {},
   "outputs": [
    {
     "name": "stdout",
     "output_type": "stream",
     "text": [
      "True\n"
     ]
    }
   ],
   "source": [
    "#logical operator\n",
    "d = True or False\n",
    "print(d)"
   ]
  },
  {
   "cell_type": "code",
   "execution_count": 58,
   "id": "4963a502-c984-4bca-b77a-f81a09accaf9",
   "metadata": {},
   "outputs": [
    {
     "name": "stdout",
     "output_type": "stream",
     "text": [
      "False\n"
     ]
    }
   ],
   "source": [
    "#logical operator\n",
    "d = False or False\n",
    "print(d)"
   ]
  },
  {
   "cell_type": "code",
   "execution_count": null,
   "id": "1dd30579-9ab7-4091-bc12-3bc3b6b518a5",
   "metadata": {},
   "outputs": [],
   "source": [
    "#logical operator\n",
    "d = False or True\n",
    "print(d)"
   ]
  },
  {
   "cell_type": "code",
   "execution_count": 1,
   "id": "ce71707f-f84f-485d-ac6d-0908c4f5cd26",
   "metadata": {},
   "outputs": [
    {
     "name": "stdout",
     "output_type": "stream",
     "text": [
      "<class 'str'>\n"
     ]
    }
   ],
   "source": [
    "a = \"31.2\"\n",
    "t = type(a)\n",
    "print(t)"
   ]
  },
  {
   "cell_type": "code",
   "execution_count": 7,
   "id": "c678501c-e1cf-464f-a968-b3756a55a3a8",
   "metadata": {},
   "outputs": [
    {
     "name": "stdout",
     "output_type": "stream",
     "text": [
      "31.2\n"
     ]
    }
   ],
   "source": [
    "a = \"31.2\"\n",
    "b = float(a) # a but the type should be float\n",
    "print(b)"
   ]
  },
  {
   "cell_type": "code",
   "execution_count": 9,
   "id": "f2fba765-ac78-4f1e-9e1a-d28357a55000",
   "metadata": {},
   "outputs": [
    {
     "name": "stdout",
     "output_type": "stream",
     "text": [
      "31.2\n"
     ]
    }
   ],
   "source": [
    "a = \"31.2\"\n",
    "b = float(a) # a but the type should be float\n",
    "t = type(b)\n",
    "print(b)"
   ]
  },
  {
   "cell_type": "code",
   "execution_count": 11,
   "id": "b6ea9a4c-a69c-49c5-bec5-9e9414b6dc44",
   "metadata": {},
   "outputs": [],
   "source": [
    "#input () function"
   ]
  },
  {
   "cell_type": "code",
   "execution_count": 21,
   "id": "63343fc7-a270-4647-b866-99a25c7ce032",
   "metadata": {},
   "outputs": [
    {
     "name": "stdin",
     "output_type": "stream",
     "text": [
      "Enter number 1:  4\n",
      "enter number 2:  5\n"
     ]
    },
    {
     "name": "stdout",
     "output_type": "stream",
     "text": [
      "Number a is:  4\n",
      "Number b is:  5\n",
      "sum is  45\n"
     ]
    }
   ],
   "source": [
    "a = input(\"Enter number 1: \")\n",
    "b = input(\"enter number 2: \")\n",
    "print(\"Number a is: \", a)\n",
    "print(\"Number b is: \", b)\n",
    "print (\"sum is \", a+b)\n"
   ]
  },
  {
   "cell_type": "code",
   "execution_count": 23,
   "id": "56ac58b8-9825-45a5-bc64-4b9865372789",
   "metadata": {},
   "outputs": [
    {
     "name": "stdin",
     "output_type": "stream",
     "text": [
      "Enter number 1:  6\n",
      "enter number 2:  8\n"
     ]
    },
    {
     "name": "stdout",
     "output_type": "stream",
     "text": [
      "Number a is:  6\n",
      "Number b is:  8\n",
      "sum is  14\n"
     ]
    }
   ],
   "source": [
    "a = int(input(\"Enter number 1: \"))\n",
    "b = int(input(\"enter number 2: \"))\n",
    "print(\"Number a is: \", a)\n",
    "print(\"Number b is: \", b)\n",
    "print (\"sum is \", a+b)"
   ]
  },
  {
   "cell_type": "code",
   "execution_count": 29,
   "id": "638c7f49-b638-4213-8403-3899de3db023",
   "metadata": {},
   "outputs": [
    {
     "name": "stdout",
     "output_type": "stream",
     "text": [
      "12\n"
     ]
    }
   ],
   "source": [
    "a = \"1\"\n",
    "b = \"2\"\n",
    "print(a+b)"
   ]
  },
  {
   "cell_type": "code",
   "execution_count": 25,
   "id": "a513a41c-2922-4ddb-a7d8-468ed08602a2",
   "metadata": {},
   "outputs": [],
   "source": [
    "#CHAPTER 2 PRACTICE SET"
   ]
  },
  {
   "cell_type": "markdown",
   "id": "7bbeb10c-a9ae-424b-9211-b7cb5db1411d",
   "metadata": {},
   "source": [
    "1. Write a python program to add two numbers."
   ]
  },
  {
   "cell_type": "code",
   "execution_count": 31,
   "id": "658164e7-6875-4f95-be5c-06f175f71751",
   "metadata": {},
   "outputs": [
    {
     "name": "stdout",
     "output_type": "stream",
     "text": [
      "3\n"
     ]
    }
   ],
   "source": [
    "a = 1\n",
    "b = 2\n",
    "print(a+b)"
   ]
  },
  {
   "cell_type": "markdown",
   "id": "7822987f-132a-4e5c-9c7b-1f9179937c80",
   "metadata": {},
   "source": [
    "2. Write a python program to find remainder when a number is divided by z. "
   ]
  },
  {
   "cell_type": "code",
   "execution_count": 35,
   "id": "70cc24f9-91bf-42bd-9927-5cfbb1f0747e",
   "metadata": {},
   "outputs": [
    {
     "name": "stdout",
     "output_type": "stream",
     "text": [
      "remainder when a is divded by b  4\n"
     ]
    }
   ],
   "source": [
    "a = 34\n",
    "b = 5\n",
    "print(\"remainder when a is divded by b \", a%b)"
   ]
  },
  {
   "cell_type": "markdown",
   "id": "82b9abc7-3b86-47a9-85c1-8c5d1276bfd3",
   "metadata": {},
   "source": [
    "3. Check the type of variable assigned using input () function. "
   ]
  },
  {
   "cell_type": "code",
   "execution_count": 1,
   "id": "349cc37a-fca8-403c-b5c0-363807aacd36",
   "metadata": {},
   "outputs": [
    {
     "name": "stdin",
     "output_type": "stream",
     "text": [
      "enter the value of a:  a\n"
     ]
    },
    {
     "name": "stdout",
     "output_type": "stream",
     "text": [
      "<class 'str'>\n"
     ]
    }
   ],
   "source": [
    "a = input (\"enter the value of a: \")\n",
    "print(type(a))"
   ]
  },
  {
   "cell_type": "markdown",
   "id": "407fa8e1-4e07-4170-ac84-114412ed768b",
   "metadata": {},
   "source": [
    "4. Use comparison operator to find out whether ‘a’ given variable a is greater than \n",
    "‘b’ or not. Take a = 34 and b = 80"
   ]
  },
  {
   "cell_type": "code",
   "execution_count": 24,
   "id": "fd67bcd2-3fd9-422a-b213-9507fdfe3a8b",
   "metadata": {},
   "outputs": [
    {
     "name": "stdin",
     "output_type": "stream",
     "text": [
      "enter number 34:  34\n",
      "enter number 80:  80\n"
     ]
    },
    {
     "name": "stdout",
     "output_type": "stream",
     "text": [
      "a is greater than b is  False\n"
     ]
    }
   ],
   "source": [
    "a = int(input(\"enter number 34: \"))\n",
    "b = int(input(\"enter number 80: \"))\n",
    "print(\"a is greater than b is \", a>b)"
   ]
  },
  {
   "cell_type": "markdown",
   "id": "f876a4e0-9d99-4e3f-a8a6-528d3f4fd784",
   "metadata": {},
   "source": [
    "5. Write a python program to find an average of two numbers entered by the user."
   ]
  },
  {
   "cell_type": "code",
   "execution_count": 29,
   "id": "a057460f-f2fc-4a02-b438-c6e8181b1f53",
   "metadata": {},
   "outputs": [
    {
     "name": "stdin",
     "output_type": "stream",
     "text": [
      "enter number 1:  4\n",
      "enter number 2:  5\n"
     ]
    },
    {
     "name": "stdout",
     "output_type": "stream",
     "text": [
      "The average of these two number is 6.5\n"
     ]
    }
   ],
   "source": [
    "a = int(input(\"enter number 1: \"))\n",
    "b = int(input(\"enter number 2: \"))\n",
    "print(\"The average of these two number is\" , (a+b/2))"
   ]
  },
  {
   "cell_type": "markdown",
   "id": "44d41103-588a-4d5f-a07d-ba531ea569b6",
   "metadata": {},
   "source": [
    "6. Write a python program to calculate the square of a number entered by the user. "
   ]
  },
  {
   "cell_type": "code",
   "execution_count": 33,
   "id": "116f77bd-45e0-4183-ab19-0f4c029beadd",
   "metadata": {},
   "outputs": [
    {
     "name": "stdin",
     "output_type": "stream",
     "text": [
      "enter your number 1:  7\n"
     ]
    },
    {
     "name": "stdout",
     "output_type": "stream",
     "text": [
      "square of the number is 49\n"
     ]
    }
   ],
   "source": [
    "a = int(input(\"enter your number 1: \"))\n",
    "print(\"square of the number is\" , a**2)"
   ]
  },
  {
   "cell_type": "code",
   "execution_count": null,
   "id": "b1a92d93-d023-44de-8370-0808f0530aa6",
   "metadata": {},
   "outputs": [],
   "source": []
  }
 ],
 "metadata": {
  "kernelspec": {
   "display_name": "Python 3 (ipykernel)",
   "language": "python",
   "name": "python3"
  },
  "language_info": {
   "codemirror_mode": {
    "name": "ipython",
    "version": 3
   },
   "file_extension": ".py",
   "mimetype": "text/x-python",
   "name": "python",
   "nbconvert_exporter": "python",
   "pygments_lexer": "ipython3",
   "version": "3.12.7"
  }
 },
 "nbformat": 4,
 "nbformat_minor": 5
}
