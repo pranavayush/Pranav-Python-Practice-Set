{
 "cells": [
  {
   "cell_type": "code",
   "execution_count": null,
   "id": "e4155220-ac9b-46b3-bf37-4b2b5a7df14e",
   "metadata": {},
   "outputs": [],
   "source": [
    "#string slicing "
   ]
  },
  {
   "cell_type": "code",
   "execution_count": 5,
   "id": "fe95dfaf-e4c8-454e-a78c-f58681c23b9b",
   "metadata": {},
   "outputs": [
    {
     "name": "stdout",
     "output_type": "stream",
     "text": [
      "6\n"
     ]
    }
   ],
   "source": [
    "name = \"pranav\"\n",
    "nameshort = len(name)\n",
    "print(nameshort)"
   ]
  },
  {
   "cell_type": "code",
   "execution_count": 7,
   "id": "5de23b34-7536-4e1c-9f68-53e36ec4d2b8",
   "metadata": {},
   "outputs": [
    {
     "name": "stdout",
     "output_type": "stream",
     "text": [
      "pra\n"
     ]
    }
   ],
   "source": [
    "name = \"pranav\"\n",
    "nameshort = name[0:3] #start from index 0 all the way till 3 ( excluding 3)\n",
    "print(nameshort)"
   ]
  },
  {
   "cell_type": "code",
   "execution_count": 13,
   "id": "0f074e87-9784-4e35-a7e7-ed0a944e1884",
   "metadata": {},
   "outputs": [
    {
     "name": "stdout",
     "output_type": "stream",
     "text": [
      "pra\n",
      "r\n"
     ]
    }
   ],
   "source": [
    "name = \"pranav\"\n",
    "nameshort = name[0:3] #start from index 0 all the way till 3 ( excluding 3)\n",
    "print(nameshort)\n",
    "character1 = name[1]\n",
    "print(character1)"
   ]
  },
  {
   "cell_type": "code",
   "execution_count": 17,
   "id": "a5a648ed-44b6-4715-89c0-0f71ea9ee52d",
   "metadata": {},
   "outputs": [
    {
     "name": "stdout",
     "output_type": "stream",
     "text": [
      "pra\n",
      "ana\n",
      "ran\n",
      "pran\n",
      "ranav\n",
      "rana\n"
     ]
    }
   ],
   "source": [
    "name = \"pranav\"\n",
    "print(name[0:3])\n",
    "print(name[-4: -1])\n",
    "print(name[1:4])\n",
    "print(name[:4]) #is same as print(name[0:4])\n",
    "print(name[1:]) #is same as print(name[1:5])\n",
    "print(name[1:5])"
   ]
  },
  {
   "cell_type": "code",
   "execution_count": null,
   "id": "50cd26b6-2b49-4a7c-af4e-85b0753f7924",
   "metadata": {},
   "outputs": [],
   "source": [
    "#string function"
   ]
  },
  {
   "cell_type": "code",
   "execution_count": 19,
   "id": "4164dcc5-f091-4366-a09f-747eb6b4a48f",
   "metadata": {},
   "outputs": [
    {
     "name": "stdout",
     "output_type": "stream",
     "text": [
      "5\n"
     ]
    }
   ],
   "source": [
    "name = \"ayush\"\n",
    "print(len(name))"
   ]
  },
  {
   "cell_type": "code",
   "execution_count": 25,
   "id": "8c214d81-00dc-4270-abff-59710e134e84",
   "metadata": {},
   "outputs": [
    {
     "name": "stdout",
     "output_type": "stream",
     "text": [
      "5\n",
      "False\n"
     ]
    }
   ],
   "source": [
    "name = \"ayush\"\n",
    "print(len(name))\n",
    "print((name.endswith(\"ih\")))"
   ]
  },
  {
   "cell_type": "code",
   "execution_count": 27,
   "id": "54e37544-8229-4534-a26d-41c25cf89b5a",
   "metadata": {},
   "outputs": [
    {
     "name": "stdout",
     "output_type": "stream",
     "text": [
      "5\n",
      "True\n"
     ]
    }
   ],
   "source": [
    "name = \"ayush\"\n",
    "print(len(name))\n",
    "print((name.endswith(\"sh\")))"
   ]
  },
  {
   "cell_type": "code",
   "execution_count": 43,
   "id": "5c34ef12-0dd9-4825-8d26-0257951f60d7",
   "metadata": {},
   "outputs": [
    {
     "name": "stdout",
     "output_type": "stream",
     "text": [
      "9\n",
      "False\n",
      "True\n",
      "Ayush are\n"
     ]
    }
   ],
   "source": [
    "name = \"ayush are\"\n",
    "print(len(name))\n",
    "print((name.endswith(\"sh\")))\n",
    "print((name.startswith(\"ay\")))\n",
    "print(name.capitalize()) #yeh sirf starting wale word ko capitalize krta hai"
   ]
  },
  {
   "cell_type": "code",
   "execution_count": 45,
   "id": "98b49ef2-5ac2-48b8-9c08-0faa5a22058b",
   "metadata": {},
   "outputs": [
    {
     "name": "stdout",
     "output_type": "stream",
     "text": [
      "6\n"
     ]
    }
   ],
   "source": [
    "s = \"hello world\"\n",
    "index = s.find(\"world\")\n",
    "print(index) "
   ]
  },
  {
   "cell_type": "code",
   "execution_count": 49,
   "id": "76faf1a8-c2e6-466e-9874-9357845b583c",
   "metadata": {},
   "outputs": [
    {
     "name": "stdout",
     "output_type": "stream",
     "text": [
      "hello world\n"
     ]
    }
   ],
   "source": [
    "s = \"hello world\"\n",
    "replaced_string = s.replace(\"wold\", \"python\")\n",
    "print(replaced_string)"
   ]
  },
  {
   "cell_type": "code",
   "execution_count": 51,
   "id": "50470e61-57f9-426c-985e-b81ec5fa3bff",
   "metadata": {},
   "outputs": [],
   "source": [
    "#escape sequence "
   ]
  },
  {
   "cell_type": "code",
   "execution_count": 59,
   "id": "c8dc32f6-e216-494e-8040-63b57d033366",
   "metadata": {},
   "outputs": [
    {
     "name": "stdout",
     "output_type": "stream",
     "text": [
      "pranv is a good boy\n",
      "but not a bod boy\n"
     ]
    }
   ],
   "source": [
    "a = \"pranv is a good boy\\nbut not a bod boy\" #\\n\n",
    "print(a)"
   ]
  },
  {
   "cell_type": "code",
   "execution_count": 67,
   "id": "ce657814-21a6-4ff6-b17e-c7b88f937691",
   "metadata": {},
   "outputs": [
    {
     "name": "stdout",
     "output_type": "stream",
     "text": [
      "pranv is a good boy\n",
      "but not a bod \"boy\"\n"
     ]
    }
   ],
   "source": [
    "a = \"pranv is a good boy\\nbut not a bod \\\"boy\\\"\" \n",
    "print(a)"
   ]
  },
  {
   "cell_type": "code",
   "execution_count": 61,
   "id": "e03afbc2-8d99-404a-b162-9a3e4c652126",
   "metadata": {},
   "outputs": [
    {
     "name": "stdout",
     "output_type": "stream",
     "text": [
      "pranv is a good boy\tbut not a bod boy\n"
     ]
    }
   ],
   "source": [
    "a = \"pranv is a good boy\\tbut not a bod boy\" #\\t\n",
    "print(a)"
   ]
  },
  {
   "cell_type": "code",
   "execution_count": 63,
   "id": "88d215bb-1730-4583-9f41-b635302df098",
   "metadata": {},
   "outputs": [
    {
     "name": "stdout",
     "output_type": "stream",
     "text": [
      "pranv is a good boy\\but not a bod boy\n"
     ]
    }
   ],
   "source": [
    "a = \"pranv is a good boy\\\\but not a bod boy\" #\\\\\n",
    "print(a)"
   ]
  },
  {
   "cell_type": "code",
   "execution_count": 75,
   "id": "8880b780-d4d1-4ddd-9e6a-c0d2b9e4f046",
   "metadata": {},
   "outputs": [],
   "source": [
    "#practice set"
   ]
  },
  {
   "cell_type": "markdown",
   "id": "b012f042-3d2e-4239-b0d5-66ee4d6e0bd9",
   "metadata": {},
   "source": [
    "1-  Write a python program to display a user entered name followed by Good \n",
    "Afternoon using input () function. "
   ]
  },
  {
   "cell_type": "code",
   "execution_count": 80,
   "id": "d9b228b4-c672-45a5-a148-3d2bf5c598d3",
   "metadata": {},
   "outputs": [
    {
     "name": "stdin",
     "output_type": "stream",
     "text": [
      "enter your name:  satyam\n"
     ]
    },
    {
     "name": "stdout",
     "output_type": "stream",
     "text": [
      "Good afternoon satyam \n"
     ]
    }
   ],
   "source": [
    "name = input(\"enter your name: \")\n",
    "print(f\"Good afternoon {name} \")"
   ]
  },
  {
   "cell_type": "markdown",
   "id": "e9deb2c9-f20a-4eb0-9e02-05ba1a4dc4cd",
   "metadata": {},
   "source": [
    "2. Write a program to fill in a letter template given below with name and date."
   ]
  },
  {
   "cell_type": "code",
   "execution_count": 85,
   "id": "d5391d36-143d-4d04-9e53-ecff53b98589",
   "metadata": {},
   "outputs": [
    {
     "name": "stdout",
     "output_type": "stream",
     "text": [
      "Dearpranav,\n",
      "            your selected!\n",
      "            24 aug 2030\n"
     ]
    }
   ],
   "source": [
    "letter = '''Dear<|name|>,\n",
    "            your selected!\n",
    "            <|date|>'''\n",
    "print(letter.replace(\"<|name|>\",\"pranav\").replace(\"<|date|>\",\"24 aug 2030\"))"
   ]
  },
  {
   "cell_type": "markdown",
   "id": "4c6b5523-bb4b-4adf-9938-8ebe4d0272b1",
   "metadata": {},
   "source": [
    "3. Write a program to detect double space in a string."
   ]
  },
  {
   "cell_type": "code",
   "execution_count": 98,
   "id": "54c981a6-87e4-42eb-8106-89951a18debf",
   "metadata": {},
   "outputs": [
    {
     "name": "stdout",
     "output_type": "stream",
     "text": [
      "6\n"
     ]
    }
   ],
   "source": [
    "name = \"pranav is good boy\"\n",
    "print(name.find(\" \"))"
   ]
  },
  {
   "cell_type": "markdown",
   "id": "20d99503-fe94-4508-815c-fd5303667483",
   "metadata": {},
   "source": [
    "4. Replace the double space from problem 3 with single spaces."
   ]
  },
  {
   "cell_type": "code",
   "execution_count": 117,
   "id": "c9cee283-78f8-4be9-9272-4a38304cf385",
   "metadata": {},
   "outputs": [
    {
     "name": "stdout",
     "output_type": "stream",
     "text": [
      "pranav is  bad boy\n",
      "pranav is  bad boy\n"
     ]
    }
   ],
   "source": [
    "name = \"pranav is  bad boy\"\n",
    "print(name.replace(\" \",\" \"))\n",
    "print(name) #string are immutable which means that you cannot change them by running function on them"
   ]
  },
  {
   "cell_type": "markdown",
   "id": "038202b7-489e-447b-b14b-81e9fe82a2ab",
   "metadata": {},
   "source": [
    " 5. Write a program to format the following letter using escape sequence \n",
    "characters. "
   ]
  },
  {
   "cell_type": "code",
   "execution_count": 128,
   "id": "39774399-1cd2-4953-b88e-e6fda076aa1e",
   "metadata": {},
   "outputs": [
    {
     "name": "stdout",
     "output_type": "stream",
     "text": [
      "Dear Harry,\n",
      "\tthis python course is nice.\n",
      "Thanks!\n"
     ]
    }
   ],
   "source": [
    "letter = \"Dear Harry,\\n\\tthis python course is nice.\\nThanks!\"\n",
    "print(letter)"
   ]
  },
  {
   "cell_type": "code",
   "execution_count": null,
   "id": "27a17ab1-1dca-4fe8-a12a-732fc923fd7f",
   "metadata": {},
   "outputs": [],
   "source": [
    "#list and tuple "
   ]
  },
  {
   "cell_type": "code",
   "execution_count": null,
   "id": "6e2f1086-2661-468b-b74c-53d60a2fd917",
   "metadata": {},
   "outputs": [],
   "source": [
    "#LIST ???"
   ]
  },
  {
   "cell_type": "code",
   "execution_count": 132,
   "id": "cf4ca12c-5796-4fac-898e-c397d9901ae1",
   "metadata": {},
   "outputs": [
    {
     "name": "stdout",
     "output_type": "stream",
     "text": [
      "Apple\n"
     ]
    }
   ],
   "source": [
    "friends = [\"Apple\", \"Orange\", 5, 34.5, False, \"Aksh\", \"Rohan\"]\n",
    "print(friends[0])"
   ]
  },
  {
   "cell_type": "code",
   "execution_count": 144,
   "id": "99f6a89d-0f65-4b3c-8574-fc0d7f4d10a4",
   "metadata": {},
   "outputs": [
    {
     "name": "stdout",
     "output_type": "stream",
     "text": [
      "Apple\n",
      "Grapes\n"
     ]
    }
   ],
   "source": [
    "friends = [\"Apple\", \"Orange\", 5, 34.5, False, \"Aksh\", \"Rohan\"]\n",
    "print(friends[0])\n",
    "friends[6] = \"Grapes\" #UNlike strings lists are mutable\n",
    "print(friends[6])"
   ]
  },
  {
   "cell_type": "code",
   "execution_count": 146,
   "id": "7f847b73-1513-427e-b508-8b95288405d8",
   "metadata": {},
   "outputs": [
    {
     "name": "stdout",
     "output_type": "stream",
     "text": [
      "Apple\n",
      "Grapes\n"
     ]
    }
   ],
   "source": [
    "friends = [\"Apple\", \"Orange\", 5, 34.5, False, \"Aksh\", \"Rohan\"]\n",
    "print(friends[0])\n",
    "friends[4] = \"Grapes\" #UNlike strings lists are mutable\n",
    "print(friends[4])"
   ]
  },
  {
   "cell_type": "code",
   "execution_count": 150,
   "id": "980e8611-bd88-4a36-9768-fc63659dfba0",
   "metadata": {},
   "outputs": [
    {
     "name": "stdout",
     "output_type": "stream",
     "text": [
      "Apple\n",
      "['Orange', 5, 34.5]\n"
     ]
    }
   ],
   "source": [
    "friends = [\"Apple\", \"Orange\", 5, 34.5, False, \"Aksh\", \"Rohan\"]\n",
    "print(friends[0])\n",
    "friends[4] = \"Grapes\" #UNlike strings lists are mutable\n",
    "print(friends[1:4])"
   ]
  },
  {
   "cell_type": "code",
   "execution_count": 154,
   "id": "3c878551-87cd-4155-9dd8-23ae366c0470",
   "metadata": {},
   "outputs": [
    {
     "name": "stdout",
     "output_type": "stream",
     "text": [
      "['Apple', 'Orange', 5, 34.5, False, 'Aksh', 'Rohan']\n",
      "['Apple', 'Orange', 5, 34.5, False, 'Aksh', 'Rohan', 'harry']\n"
     ]
    }
   ],
   "source": [
    "friends = [\"Apple\", \"Orange\", 5, 34.5, False, \"Aksh\", \"Rohan\"]\n",
    "print(friends)\n",
    "friends.append(\"harry\")\n",
    "print(friends)"
   ]
  },
  {
   "cell_type": "code",
   "execution_count": 160,
   "id": "d7bca5f7-9685-4470-963a-784b618e0342",
   "metadata": {},
   "outputs": [
    {
     "name": "stdout",
     "output_type": "stream",
     "text": [
      "[1, 22, 34, 76, 87]\n"
     ]
    }
   ],
   "source": [
    "l1 = [1, 34, 76, 87, 22]\n",
    "l1.sort()\n",
    "print(l1)"
   ]
  },
  {
   "cell_type": "code",
   "execution_count": 162,
   "id": "9f191e87-be79-4bd3-a0da-4b7a4721688b",
   "metadata": {},
   "outputs": [
    {
     "name": "stdout",
     "output_type": "stream",
     "text": [
      "[22, 87, 76, 34, 1]\n"
     ]
    }
   ],
   "source": [
    "l1 = [1, 34, 76, 87, 22]\n",
    "l1.reverse()\n",
    "print(l1)"
   ]
  },
  {
   "cell_type": "code",
   "execution_count": 174,
   "id": "e85e45f1-d64c-4224-9c80-c84fa5217814",
   "metadata": {},
   "outputs": [
    {
     "name": "stdout",
     "output_type": "stream",
     "text": [
      "[1, 34, 76, 333333, 87, 22]\n"
     ]
    }
   ],
   "source": [
    "l1 = [1, 34, 76, 87, 22]\n",
    "l1.insert(3, 333333) #insert 33333 such that its index in the list is 3\n",
    "print(l1)"
   ]
  },
  {
   "cell_type": "code",
   "execution_count": 176,
   "id": "f0b7b6ae-3e96-4247-a4f0-e05e39502123",
   "metadata": {},
   "outputs": [
    {
     "name": "stdout",
     "output_type": "stream",
     "text": [
      "[1, 34, 333333, 76, 87, 22]\n"
     ]
    }
   ],
   "source": [
    "l1 = [1, 34, 76, 87, 22]\n",
    "l1.insert(2, 333333) #insert 33333 such that its index in the list is 3\n",
    "print(l1)"
   ]
  },
  {
   "cell_type": "code",
   "execution_count": 182,
   "id": "838732b3-e913-4243-a2c7-918d9613c3b3",
   "metadata": {},
   "outputs": [
    {
     "name": "stdout",
     "output_type": "stream",
     "text": [
      "[1, 34, 76, 22]\n"
     ]
    }
   ],
   "source": [
    "l1 = [1, 34, 76, 87, 22]\n",
    "l1.pop(3)\n",
    "print(l1)"
   ]
  },
  {
   "cell_type": "code",
   "execution_count": 184,
   "id": "7be09dfc-9918-494b-befd-d961bfc1504b",
   "metadata": {},
   "outputs": [
    {
     "name": "stdout",
     "output_type": "stream",
     "text": [
      "[34, 76, 87, 22]\n"
     ]
    }
   ],
   "source": [
    "l1 = [1, 34, 76, 87, 22]\n",
    "l1.pop(0)\n",
    "print(l1)"
   ]
  },
  {
   "cell_type": "code",
   "execution_count": 190,
   "id": "2a3be9d2-3206-420a-822a-237c2c26dca1",
   "metadata": {},
   "outputs": [
    {
     "name": "stdout",
     "output_type": "stream",
     "text": [
      "[1, 76, 87, 22]\n"
     ]
    }
   ],
   "source": [
    "l1 = [1, 34, 76, 87, 22]\n",
    "l1.remove(34)\n",
    "print(l1)"
   ]
  },
  {
   "cell_type": "code",
   "execution_count": 192,
   "id": "aa21b115-12f5-4d84-a35f-865fd10ad074",
   "metadata": {},
   "outputs": [
    {
     "name": "stdout",
     "output_type": "stream",
     "text": [
      "[1, 34, 76, 22]\n"
     ]
    }
   ],
   "source": [
    "l1 = [1, 34, 76, 87, 22]\n",
    "l1.remove(87)\n",
    "print(l1)"
   ]
  },
  {
   "cell_type": "code",
   "execution_count": 194,
   "id": "1ab9e6e2-4e6a-43dc-bd57-87a27accbc01",
   "metadata": {},
   "outputs": [],
   "source": [
    "#TUPLE ?? "
   ]
  },
  {
   "cell_type": "code",
   "execution_count": 200,
   "id": "60ab45e3-be8c-4443-aa23-d172551aa459",
   "metadata": {},
   "outputs": [
    {
     "name": "stdout",
     "output_type": "stream",
     "text": [
      "<class 'int'>\n"
     ]
    }
   ],
   "source": [
    "a = (1)\n",
    "print(type(a))"
   ]
  },
  {
   "cell_type": "code",
   "execution_count": 198,
   "id": "ee2449a3-9a76-4bd7-80d6-2be1b9a49fd1",
   "metadata": {},
   "outputs": [
    {
     "name": "stdout",
     "output_type": "stream",
     "text": [
      "<class 'tuple'>\n"
     ]
    }
   ],
   "source": [
    "a = () #empty tuple\n",
    "print(type(a))"
   ]
  },
  {
   "cell_type": "code",
   "execution_count": 204,
   "id": "caeb09f2-8de4-486a-bfd6-ee4b4949fc98",
   "metadata": {},
   "outputs": [
    {
     "name": "stdout",
     "output_type": "stream",
     "text": [
      "<class 'tuple'>\n"
     ]
    }
   ],
   "source": [
    "a = (1,2,3)\n",
    "print(type(a))"
   ]
  },
  {
   "cell_type": "code",
   "execution_count": 210,
   "id": "88b8e0aa-4d4b-497d-a871-c6a36aa56dc4",
   "metadata": {},
   "outputs": [
    {
     "name": "stdout",
     "output_type": "stream",
     "text": [
      "(1, 27, 345.67, 'rohan', True, 'shivam')\n"
     ]
    }
   ],
   "source": [
    "a = (1,27,345.67, \"rohan\", True, \"shivam\")\n",
    "print(a)"
   ]
  },
  {
   "cell_type": "code",
   "execution_count": 216,
   "id": "ed9a5e85-74ab-46fd-afd2-f10e2d959955",
   "metadata": {},
   "outputs": [
    {
     "name": "stdout",
     "output_type": "stream",
     "text": [
      "(1, 27, 27, 27, 345.67, 'rohan', True, 'shivam')\n",
      "3\n"
     ]
    }
   ],
   "source": [
    "a = (1,27,27,27,345.67, \"rohan\", True, \"shivam\")\n",
    "print(a)\n",
    "no = a.count(27)\n",
    "print(no)"
   ]
  },
  {
   "cell_type": "code",
   "execution_count": 228,
   "id": "a464edf1-b9d6-4245-a288-899724acbba8",
   "metadata": {},
   "outputs": [
    {
     "name": "stdout",
     "output_type": "stream",
     "text": [
      "(1, 27, 27, 27, 345.67, 'rohan', True, 'shivam')\n",
      "1\n"
     ]
    }
   ],
   "source": [
    "a = (1,27,27,27,345.67, \"rohan\", True, \"shivam\")\n",
    "print(a)\n",
    "no = a.count(\"rohan\")\n",
    "print(no)"
   ]
  },
  {
   "cell_type": "code",
   "execution_count": 230,
   "id": "713b983f-b4a2-4665-86a9-a4434042c548",
   "metadata": {},
   "outputs": [],
   "source": [
    "#PRACTICE SET"
   ]
  },
  {
   "cell_type": "markdown",
   "id": "64d84c9c-d512-4e4a-a8f3-bad5ece39228",
   "metadata": {},
   "source": [
    "1. Write a program to store seven fruits in a list entered by the user. "
   ]
  },
  {
   "cell_type": "code",
   "execution_count": 234,
   "id": "0dcc307c-c76f-4cda-a2b3-f9d775556363",
   "metadata": {},
   "outputs": [
    {
     "name": "stdin",
     "output_type": "stream",
     "text": [
      "enter fruit name:  banana\n",
      "enter fruit name:  grapes\n",
      "enter fruit name:  apple\n",
      "enter fruit name:  guava\n",
      "enter fruit name:  kiwi\n",
      "enter fruit name:  mango\n",
      "enter fruit name:  orange\n"
     ]
    },
    {
     "name": "stdout",
     "output_type": "stream",
     "text": [
      "['banana', 'grapes', 'apple', 'guava', 'kiwi', 'mango', 'orange']\n"
     ]
    }
   ],
   "source": [
    "fruits = []\n",
    "f1 = input (\"enter fruit name: \")\n",
    "fruits.append(f1)\n",
    "f2 = input (\"enter fruit name: \")\n",
    "fruits.append(f2)\n",
    "f3 = input (\"enter fruit name: \")\n",
    "fruits.append(f3)\n",
    "f4 = input (\"enter fruit name: \")\n",
    "fruits.append(f4)\n",
    "f5 = input (\"enter fruit name: \")\n",
    "fruits.append(f5)\n",
    "f6 = input (\"enter fruit name: \")\n",
    "fruits.append(f6)\n",
    "f7 = input (\"enter fruit name: \")\n",
    "fruits.append(f7)\n",
    "print(fruits)"
   ]
  },
  {
   "cell_type": "markdown",
   "id": "7cdbe111-511a-402f-86fa-97fabb33a992",
   "metadata": {},
   "source": [
    "2. Write a program to accept marks of 6 students and display them in a sorted \n",
    "manner. "
   ]
  },
  {
   "cell_type": "code",
   "execution_count": 249,
   "id": "0bc0a808-6f1f-4541-88e1-000a13b9e300",
   "metadata": {},
   "outputs": [
    {
     "name": "stdin",
     "output_type": "stream",
     "text": [
      "enter marks here:  34\n",
      "enter marks here:  12\n",
      "enter marks here:  45\n",
      "enter marks here:  23\n",
      "enter marks here:  9\n",
      "enter marks here:  12\n"
     ]
    },
    {
     "name": "stdout",
     "output_type": "stream",
     "text": [
      "[9, 12, 12, 23, 34, 45]\n"
     ]
    }
   ],
   "source": [
    "marks = []\n",
    "f1 = int(input (\"enter marks here: \"))\n",
    "marks.append(f1)\n",
    "f2 = int(input (\"enter marks here: \"))\n",
    "marks.append(f2)\n",
    "f3 = int(input (\"enter marks here: \"))\n",
    "marks.append(f3)\n",
    "f4 = int(input (\"enter marks here: \"))\n",
    "marks.append(f4)\n",
    "f5 = int(input (\"enter marks here: \"))\n",
    "marks.append(f5)\n",
    "f6 = int(input (\"enter marks here: \"))\n",
    "marks.append(f6)\n",
    "marks.sort()\n",
    "print(marks)"
   ]
  },
  {
   "cell_type": "markdown",
   "id": "79bb121b-508c-46da-9b8d-c214d38d6919",
   "metadata": {},
   "source": [
    "3. Check that a tuple type cannot be changed in python."
   ]
  },
  {
   "cell_type": "code",
   "execution_count": 254,
   "id": "9c4b50d9-2e3a-4141-8503-853e4a646c6c",
   "metadata": {
    "scrolled": true
   },
   "outputs": [
    {
     "ename": "TypeError",
     "evalue": "'tuple' object does not support item assignment",
     "output_type": "error",
     "traceback": [
      "\u001b[1;31m---------------------------------------------------------------------------\u001b[0m",
      "\u001b[1;31mTypeError\u001b[0m                                 Traceback (most recent call last)",
      "Cell \u001b[1;32mIn[254], line 2\u001b[0m\n\u001b[0;32m      1\u001b[0m a \u001b[38;5;241m=\u001b[39m (\u001b[38;5;241m34\u001b[39m, \u001b[38;5;241m234\u001b[39m, \u001b[38;5;124m\"\u001b[39m\u001b[38;5;124msatyam\u001b[39m\u001b[38;5;124m\"\u001b[39m)\n\u001b[1;32m----> 2\u001b[0m a[\u001b[38;5;241m2\u001b[39m] \u001b[38;5;241m=\u001b[39m \u001b[38;5;124m\"\u001b[39m\u001b[38;5;124mpranav\u001b[39m\u001b[38;5;124m\"\u001b[39m\n",
      "\u001b[1;31mTypeError\u001b[0m: 'tuple' object does not support item assignment"
     ]
    }
   ],
   "source": [
    "a = (34, 234, \"satyam\")\n",
    "a[2] = \"pranav\""
   ]
  },
  {
   "cell_type": "markdown",
   "id": "f290da27-93c1-4136-a095-f646a6c6e545",
   "metadata": {},
   "source": [
    "4. Write a program to sum a list with 4 numbers. "
   ]
  },
  {
   "cell_type": "code",
   "execution_count": 257,
   "id": "3a730a92-9db0-4466-afec-bd149b5d64c6",
   "metadata": {},
   "outputs": [
    {
     "name": "stdout",
     "output_type": "stream",
     "text": [
      "214\n"
     ]
    }
   ],
   "source": [
    "l = (23, 34, 34, 123)\n",
    "print(sum(l))"
   ]
  },
  {
   "cell_type": "markdown",
   "id": "5936482e-dc52-44ee-a355-ab009d1f1ad7",
   "metadata": {},
   "source": [
    "5. Write a program to count the number of zeros in the following tuple: \n",
    "a = (7, 0, 8, 0, 0, 9) "
   ]
  },
  {
   "cell_type": "code",
   "execution_count": 260,
   "id": "cde89fd5-9c7a-4d96-8c62-4fe49e828acb",
   "metadata": {},
   "outputs": [
    {
     "name": "stdout",
     "output_type": "stream",
     "text": [
      "3\n"
     ]
    }
   ],
   "source": [
    "a = (7, 0, 8, 0, 0, 9)\n",
    "n = a.count(0)\n",
    "print(n)"
   ]
  },
  {
   "cell_type": "code",
   "execution_count": 262,
   "id": "eceaa8d0-229d-4de6-a991-1ac5c31801a1",
   "metadata": {},
   "outputs": [],
   "source": [
    "#DICTIONARY AND SETS"
   ]
  },
  {
   "cell_type": "code",
   "execution_count": null,
   "id": "41f96798-532d-4575-840e-2501a8ff662a",
   "metadata": {},
   "outputs": [],
   "source": []
  }
 ],
 "metadata": {
  "kernelspec": {
   "display_name": "Python 3 (ipykernel)",
   "language": "python",
   "name": "python3"
  },
  "language_info": {
   "codemirror_mode": {
    "name": "ipython",
    "version": 3
   },
   "file_extension": ".py",
   "mimetype": "text/x-python",
   "name": "python",
   "nbconvert_exporter": "python",
   "pygments_lexer": "ipython3",
   "version": "3.12.7"
  }
 },
 "nbformat": 4,
 "nbformat_minor": 5
}
