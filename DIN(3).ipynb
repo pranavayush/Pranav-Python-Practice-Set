{
 "cells": [
  {
   "cell_type": "code",
   "execution_count": null,
   "id": "7c0f896b-dde8-4ac6-a17c-e66f66da04cb",
   "metadata": {},
   "outputs": [],
   "source": [
    "#dicitianary and sets \n",
    "##YEH V COLLECTION HOTI HAI DATA KO STORE KRNE KE LIYE"
   ]
  },
  {
   "cell_type": "code",
   "execution_count": 5,
   "id": "988f9783-bf44-420a-bd58-66affbc6d22d",
   "metadata": {},
   "outputs": [],
   "source": [
    "#DICITIONARY"
   ]
  },
  {
   "cell_type": "code",
   "execution_count": 7,
   "id": "ce281b44-a4fa-461e-842f-df6d84c11274",
   "metadata": {},
   "outputs": [
    {
     "name": "stdout",
     "output_type": "stream",
     "text": [
      "{'harry': 100, 'shubham': 50, 'rohan': 23} <class 'dict'>\n"
     ]
    }
   ],
   "source": [
    "marks = {\n",
    "    \"harry\": 100,\n",
    "    \"shubham\": 50,\n",
    "    \"rohan\":23\n",
    "}\n",
    "print(marks, type(marks))"
   ]
  },
  {
   "cell_type": "code",
   "execution_count": 9,
   "id": "4e8cbad3-32db-4edd-9f2c-199fa52f4559",
   "metadata": {},
   "outputs": [
    {
     "name": "stdout",
     "output_type": "stream",
     "text": [
      "100\n"
     ]
    }
   ],
   "source": [
    "marks = {\n",
    "    \"harry\": 100,\n",
    "    \"shubham\": 50,\n",
    "    \"rohan\":23\n",
    "}\n",
    "#print(marks, type(marks)) #for individual\n",
    "print(marks[\"harry\"])"
   ]
  },
  {
   "cell_type": "code",
   "execution_count": 15,
   "id": "63e74828-38f8-495d-9413-3d4b9634d698",
   "metadata": {},
   "outputs": [
    {
     "name": "stdout",
     "output_type": "stream",
     "text": [
      "dict_items([('harry', 100), ('shubham', 50), ('rohan', 23)])\n"
     ]
    }
   ],
   "source": [
    "marks = {\n",
    "    \"harry\": 100,\n",
    "    \"shubham\": 50,\n",
    "    \"rohan\":23,\n",
    "}\n",
    "print(marks.items())"
   ]
  },
  {
   "cell_type": "code",
   "execution_count": 17,
   "id": "41776382-a108-4efb-b72f-f689efad0e7e",
   "metadata": {},
   "outputs": [
    {
     "name": "stdout",
     "output_type": "stream",
     "text": [
      "dict_keys(['harry', 'shubham', 'rohan'])\n"
     ]
    }
   ],
   "source": [
    "marks = {\n",
    "    \"harry\": 100,\n",
    "    \"shubham\": 50,\n",
    "    \"rohan\":23,\n",
    "}\n",
    "print(marks.keys())"
   ]
  },
  {
   "cell_type": "code",
   "execution_count": 19,
   "id": "7836349e-ea9a-4edf-9003-97f81e0f3ee6",
   "metadata": {},
   "outputs": [
    {
     "name": "stdout",
     "output_type": "stream",
     "text": [
      "dict_values([100, 50, 23])\n"
     ]
    }
   ],
   "source": [
    "marks = {\n",
    "    \"harry\": 100,\n",
    "    \"shubham\": 50,\n",
    "    \"rohan\":23,\n",
    "}\n",
    "print(marks.values())"
   ]
  },
  {
   "cell_type": "code",
   "execution_count": 27,
   "id": "e0bbaa75-e2b3-47cd-9713-d9de27df5b0e",
   "metadata": {},
   "outputs": [
    {
     "name": "stdout",
     "output_type": "stream",
     "text": [
      "dict_values([100, 50, 23])\n",
      "{'harry': 99, 'shubham': 50, 'rohan': 23}\n"
     ]
    }
   ],
   "source": [
    "marks = {\n",
    "    \"harry\": 100,\n",
    "    \"shubham\": 50,\n",
    "    \"rohan\":23,\n",
    "}\n",
    "print(marks.values())\n",
    "marks.update({\"harry\":99})\n",
    "print(marks)"
   ]
  },
  {
   "cell_type": "code",
   "execution_count": 29,
   "id": "382a2320-0c4f-4aa9-9e3b-781d41e9f1b0",
   "metadata": {},
   "outputs": [
    {
     "name": "stdout",
     "output_type": "stream",
     "text": [
      "dict_values([100, 50, 23])\n",
      "{'harry': 99, 'shubham': 50, 'rohan': 23, 'renuka': 100}\n"
     ]
    }
   ],
   "source": [
    "marks = {\n",
    "    \"harry\": 100,\n",
    "    \"shubham\": 50,\n",
    "    \"rohan\":23,\n",
    "}\n",
    "print(marks.values())\n",
    "marks.update({\"harry\":99, \"renuka\":100})\n",
    "print(marks)"
   ]
  },
  {
   "cell_type": "code",
   "execution_count": 37,
   "id": "a170cb66-9a9f-4bd4-82fc-61c2e3d3431a",
   "metadata": {},
   "outputs": [
    {
     "name": "stdout",
     "output_type": "stream",
     "text": [
      "None\n"
     ]
    },
    {
     "ename": "KeyError",
     "evalue": "'harry2'",
     "output_type": "error",
     "traceback": [
      "\u001b[1;31m---------------------------------------------------------------------------\u001b[0m",
      "\u001b[1;31mKeyError\u001b[0m                                  Traceback (most recent call last)",
      "Cell \u001b[1;32mIn[37], line 7\u001b[0m\n\u001b[0;32m      1\u001b[0m marks \u001b[38;5;241m=\u001b[39m {\n\u001b[0;32m      2\u001b[0m     \u001b[38;5;124m\"\u001b[39m\u001b[38;5;124mharry\u001b[39m\u001b[38;5;124m\"\u001b[39m: \u001b[38;5;241m100\u001b[39m,\n\u001b[0;32m      3\u001b[0m     \u001b[38;5;124m\"\u001b[39m\u001b[38;5;124mshubham\u001b[39m\u001b[38;5;124m\"\u001b[39m: \u001b[38;5;241m50\u001b[39m,\n\u001b[0;32m      4\u001b[0m     \u001b[38;5;124m\"\u001b[39m\u001b[38;5;124mrohan\u001b[39m\u001b[38;5;124m\"\u001b[39m:\u001b[38;5;241m23\u001b[39m,\n\u001b[0;32m      5\u001b[0m }\n\u001b[0;32m      6\u001b[0m \u001b[38;5;28mprint\u001b[39m(marks\u001b[38;5;241m.\u001b[39mget(\u001b[38;5;124m\"\u001b[39m\u001b[38;5;124mharry2\u001b[39m\u001b[38;5;124m\"\u001b[39m))\n\u001b[1;32m----> 7\u001b[0m \u001b[38;5;28mprint\u001b[39m(marks[\u001b[38;5;124m\"\u001b[39m\u001b[38;5;124mharry2\u001b[39m\u001b[38;5;124m\"\u001b[39m])\n",
      "\u001b[1;31mKeyError\u001b[0m: 'harry2'"
     ]
    }
   ],
   "source": [
    "marks = {\n",
    "    \"harry\": 100,\n",
    "    \"shubham\": 50,\n",
    "    \"rohan\":23,\n",
    "}\n",
    "print(marks.get(\"harry2\")) #prints NONE\n",
    "print(marks[\"harry2\"]) #give error"
   ]
  },
  {
   "cell_type": "code",
   "execution_count": 41,
   "id": "1351b1e5-6642-4e06-b2f9-9842bd3f595a",
   "metadata": {},
   "outputs": [
    {
     "name": "stdout",
     "output_type": "stream",
     "text": [
      "<built-in method pop of dict object at 0x000001AAE2AC5800>\n"
     ]
    }
   ],
   "source": [
    "marks = {\n",
    "    \"harry\": 100,\n",
    "    \"shubham\": 50,\n",
    "    \"rohan\":23,\n",
    "}\n",
    "print(marks.pop)"
   ]
  },
  {
   "cell_type": "code",
   "execution_count": 43,
   "id": "d9fc2ceb-2f17-4750-8446-d8a452d5c992",
   "metadata": {},
   "outputs": [],
   "source": [
    "#SETS "
   ]
  },
  {
   "cell_type": "code",
   "execution_count": 47,
   "id": "36258f95-879e-4ca1-aaf6-19e13e59b532",
   "metadata": {},
   "outputs": [],
   "source": [
    "s={} #empty dict"
   ]
  },
  {
   "cell_type": "code",
   "execution_count": 49,
   "id": "e7e60491-f880-46a9-93d5-577a0b812586",
   "metadata": {},
   "outputs": [],
   "source": [
    "s = {1,2,34,}\n",
    "e = set() #dont use s = {} as it well create an empty dict"
   ]
  },
  {
   "cell_type": "code",
   "execution_count": 53,
   "id": "00e692cc-d714-40ab-80bf-bb871482c16d",
   "metadata": {},
   "outputs": [
    {
     "name": "stdout",
     "output_type": "stream",
     "text": [
      "{1, 34, 3, 2, 4, 56, 78}\n"
     ]
    }
   ],
   "source": [
    "s = {1,1,34,56,2,2,3,56,78,4} # sets jo hai har value ko ek baar lega coz sets mein value cant be repeat\n",
    "print(s) #yeh order v maintain nhi karega ( wo list krta hai)"
   ]
  },
  {
   "cell_type": "code",
   "execution_count": 55,
   "id": "8a1b6347-65e2-44bb-913b-86f30ea66692",
   "metadata": {},
   "outputs": [
    {
     "name": "stdout",
     "output_type": "stream",
     "text": [
      "<class 'set'>\n"
     ]
    }
   ],
   "source": [
    "s = {1,2,5,4,7,}\n",
    "print(type(s))"
   ]
  },
  {
   "cell_type": "code",
   "execution_count": 65,
   "id": "fb5b308c-54d3-4e03-8e5d-52a352b90137",
   "metadata": {},
   "outputs": [
    {
     "name": "stdout",
     "output_type": "stream",
     "text": [
      "<class 'set'>\n",
      "{1, 2, 4, 5, 566, 7} <class 'set'>\n"
     ]
    }
   ],
   "source": [
    "s = {1,2,5,4,7,}\n",
    "print(type(s))\n",
    "s.add(566)\n",
    "print(s, type(s)) "
   ]
  },
  {
   "cell_type": "code",
   "execution_count": 69,
   "id": "484907ff-975e-4e9f-a4f8-0c9ad35bfaef",
   "metadata": {},
   "outputs": [
    {
     "name": "stdout",
     "output_type": "stream",
     "text": [
      "<class 'set'>\n",
      "{1, 2, 4, 5, 566, 7} <class 'set'>\n",
      "{1, 4, 5, 566, 7}\n"
     ]
    }
   ],
   "source": [
    "s = {1,2,5,4,7,}\n",
    "print(type(s))\n",
    "s.add(566)\n",
    "print(s, type(s)) \n",
    "s.remove(2)\n",
    "print(s)"
   ]
  },
  {
   "cell_type": "code",
   "execution_count": 77,
   "id": "b925e639-39e6-4aa8-9a81-a4a0f87a10f2",
   "metadata": {},
   "outputs": [
    {
     "name": "stdout",
     "output_type": "stream",
     "text": [
      "<class 'set'>\n",
      "{1, 2, 4, 5, 566, 7} <class 'set'>\n",
      "{2, 4, 5, 566, 7}\n"
     ]
    }
   ],
   "source": [
    "s = {1,2,5,4,7,}\n",
    "print(type(s))\n",
    "s.add(566)\n",
    "print(s, type(s)) \n",
    "s.pop() #remove random element in the set\n",
    "print(s)"
   ]
  },
  {
   "cell_type": "code",
   "execution_count": 75,
   "id": "20da0f82-6b4c-4bb3-82ed-33856bb1976d",
   "metadata": {},
   "outputs": [
    {
     "name": "stdout",
     "output_type": "stream",
     "text": [
      "<class 'set'>\n",
      "{1, 2, 4, 5, 566, 7} <class 'set'>\n",
      "set()\n"
     ]
    }
   ],
   "source": [
    "s = {1,2,5,4,7,}\n",
    "print(type(s))\n",
    "s.add(566)\n",
    "print(s, type(s)) \n",
    "s.clear() # yeh set ko khali kr dega\n",
    "print(s)"
   ]
  },
  {
   "cell_type": "code",
   "execution_count": 79,
   "id": "6189e6c5-63be-4ba7-9ae9-8f834bf92a69",
   "metadata": {},
   "outputs": [
    {
     "name": "stdout",
     "output_type": "stream",
     "text": [
      "{1, 6, 7, 8, 45, 78}\n"
     ]
    }
   ],
   "source": [
    "s1 = {1, 45, 6}\n",
    "s2 = {7, 8, 1, 78}\n",
    "print(s1.union(s2)) #value repeat nhi hoga"
   ]
  },
  {
   "cell_type": "code",
   "execution_count": 81,
   "id": "c503aea5-2b7a-4439-a87a-6ed257b21329",
   "metadata": {},
   "outputs": [
    {
     "name": "stdout",
     "output_type": "stream",
     "text": [
      "{1, 6, 7, 8, 45, 78}\n",
      "{1}\n"
     ]
    }
   ],
   "source": [
    "s1 = {1, 45, 6}\n",
    "s2 = {7, 8, 1, 78}\n",
    "print(s1.union(s2))\n",
    "print(s1.intersection(s2)) # in dono mein se common value lega"
   ]
  },
  {
   "cell_type": "code",
   "execution_count": 83,
   "id": "30d77415-d244-472b-9ec5-ae5beb3dc0b8",
   "metadata": {},
   "outputs": [],
   "source": [
    "#PRACTICE SET"
   ]
  },
  {
   "cell_type": "markdown",
   "id": "af6ac044-d388-4ad9-945c-e659ca356e9e",
   "metadata": {},
   "source": [
    "1. Write a program to create a dictionary of Hindi words with values as their English \n",
    "translation. Provide user with an option to look it up! "
   ]
  },
  {
   "cell_type": "code",
   "execution_count": 90,
   "id": "5130734c-6c80-41e7-94cc-c8e5c7f349fe",
   "metadata": {},
   "outputs": [
    {
     "name": "stdin",
     "output_type": "stream",
     "text": [
      "enter the word you want meaning of:  billi\n"
     ]
    },
    {
     "name": "stdout",
     "output_type": "stream",
     "text": [
      "cat\n"
     ]
    }
   ],
   "source": [
    "words = {\n",
    "    \"madat\": \"help\",\n",
    "    \"kursi\": \"chair\",\n",
    "    \"billi\": \"cat\",\n",
    "}\n",
    "word = input(\"enter the word you want meaning of: \")\n",
    "print(words[word])"
   ]
  },
  {
   "cell_type": "markdown",
   "id": "9605f10a-584d-492f-96ae-389fcacf5963",
   "metadata": {},
   "source": [
    "2. Write a program to input eight numbers from the user and display all the unique \n",
    "numbers (once)."
   ]
  },
  {
   "cell_type": "code",
   "execution_count": 96,
   "id": "167bfb07-15d4-43c1-8173-17e3b56a23ba",
   "metadata": {},
   "outputs": [
    {
     "name": "stdin",
     "output_type": "stream",
     "text": [
      "Enter number 1:  4\n",
      "Enter number 1:  2\n",
      "Enter number 1:  3\n",
      "Enter number 1:  5\n",
      "Enter number 1:  7\n",
      "Enter number 1:  3\n",
      "Enter number 1:  2\n"
     ]
    },
    {
     "name": "stdout",
     "output_type": "stream",
     "text": [
      "<class 'set'>\n"
     ]
    }
   ],
   "source": [
    "s = set()\n",
    "n = input(\"Enter number 1: \")\n",
    "s.add(int(n))\n",
    "n = input(\"Enter number 1: \")\n",
    "s.add(int(n))\n",
    "n = input(\"Enter number 1: \")\n",
    "s.add(int(n))\n",
    "n = input(\"Enter number 1: \")\n",
    "s.add(int(n))\n",
    "n = input(\"Enter number 1: \")\n",
    "s.add(int(n))\n",
    "n = input(\"Enter number 1: \")\n",
    "s.add(int(n))\n",
    "n = input(\"Enter number 1: \")\n",
    "s.add(int(n))\n",
    "print(set)"
   ]
  },
  {
   "cell_type": "markdown",
   "id": "fb487213-306c-49e6-95db-837b1b5e1154",
   "metadata": {},
   "source": [
    "3. Can we have a set with 18 (int) and '18' (str) as a value in it? "
   ]
  },
  {
   "cell_type": "code",
   "execution_count": 99,
   "id": "99d7876f-d6c0-4c45-8154-4ae5d4708a05",
   "metadata": {},
   "outputs": [
    {
     "name": "stdout",
     "output_type": "stream",
     "text": [
      "{18, '18'}\n"
     ]
    }
   ],
   "source": [
    "s = set()\n",
    "s.add(18)\n",
    "s.add(\"18\")\n",
    "print(s)"
   ]
  },
  {
   "cell_type": "markdown",
   "id": "3515dc05-9120-4038-b7cc-dcd6331a523a",
   "metadata": {},
   "source": [
    "4. What will be the length of following set s: \n",
    "s = set() \n",
    "s.add(20) \n",
    "s.add(20.0) \n",
    "s.add('20') # length of s after these operations? "
   ]
  },
  {
   "cell_type": "code",
   "execution_count": 106,
   "id": "297fefe9-19db-4bf9-b8ef-f8eed5ff64fe",
   "metadata": {},
   "outputs": [
    {
     "name": "stdout",
     "output_type": "stream",
     "text": [
      "2\n"
     ]
    }
   ],
   "source": [
    "s = set() \n",
    "s.add(20) \n",
    "s.add(20.0) \n",
    "s.add('20')\n",
    "print(len(s))"
   ]
  },
  {
   "cell_type": "markdown",
   "id": "88281da1-2f45-4974-834b-b07d663b557d",
   "metadata": {},
   "source": [
    "s = {} \n",
    "What is the type of 's'? "
   ]
  },
  {
   "cell_type": "code",
   "execution_count": null,
   "id": "3f246498-2392-4e4d-ae6f-faacf3036161",
   "metadata": {},
   "outputs": [],
   "source": [
    "s = {} THIS IS A DICT"
   ]
  },
  {
   "cell_type": "markdown",
   "id": "cea8907b-483b-4efd-90f0-cc8f095d49e4",
   "metadata": {},
   "source": [
    "Create an empty dictionary. Allow 4 friends to enter their favorite language as \n",
    "value and use key as their names. Assume that the names are unique."
   ]
  },
  {
   "cell_type": "code",
   "execution_count": 114,
   "id": "606a073b-c795-4eca-9fa8-847e269e110a",
   "metadata": {},
   "outputs": [
    {
     "name": "stdin",
     "output_type": "stream",
     "text": [
      "enter friend name:  harry\n",
      "enter language name:  c\n",
      "enter friend name:  shubh\n",
      "enter language name:  python\n",
      "enter friend name:  satyam\n",
      "enter language name:  c++\n",
      "enter friend name:  khaleer\n",
      "enter language name:  java\n"
     ]
    },
    {
     "name": "stdout",
     "output_type": "stream",
     "text": [
      "{'harry': 'c', 'shubh': 'python', 'satyam': 'c++', 'khaleer': 'java'}\n"
     ]
    }
   ],
   "source": [
    "d = {}\n",
    "name = input(\"enter friend name: \")\n",
    "lang = input(\"enter language name: \")\n",
    "d.update({name: lang})\n",
    "\n",
    "name = input(\"enter friend name: \")\n",
    "lang = input(\"enter language name: \")\n",
    "d.update({name: lang})\n",
    "\n",
    "name = input(\"enter friend name: \")\n",
    "lang = input(\"enter language name: \")\n",
    "d.update({name: lang})\n",
    "\n",
    "name = input(\"enter friend name: \")\n",
    "lang = input(\"enter language name: \")\n",
    "d.update({name: lang})\n",
    "\n",
    "print(d)"
   ]
  },
  {
   "cell_type": "markdown",
   "id": "06798086-93e4-4b12-9522-13a8faeed759",
   "metadata": {},
   "source": [
    "7. If the names of 2 friends are same; what will happen to the program in problem \n",
    "6? "
   ]
  },
  {
   "cell_type": "code",
   "execution_count": 117,
   "id": "65677849-c425-476d-93e9-f10fc564ff5f",
   "metadata": {},
   "outputs": [
    {
     "name": "stdin",
     "output_type": "stream",
     "text": [
      "enter friend name:  rohan\n",
      "enter language name:  oops\n",
      "enter friend name:  shubha\n",
      "enter language name:  python\n",
      "enter friend name:  shubha\n",
      "enter language name:  js\n",
      "enter friend name:  rohan oops\n",
      "enter language name:  oops\n"
     ]
    },
    {
     "name": "stdout",
     "output_type": "stream",
     "text": [
      "{'rohan': 'oops', 'shubha': 'js', 'rohan oops': 'oops'}\n"
     ]
    }
   ],
   "source": [
    "d = {}\n",
    "name = input(\"enter friend name: \")\n",
    "lang = input(\"enter language name: \")\n",
    "d.update({name: lang})\n",
    "\n",
    "name = input(\"enter friend name: \")\n",
    "lang = input(\"enter language name: \")\n",
    "d.update({name: lang})\n",
    "\n",
    "name = input(\"enter friend name: \")\n",
    "lang = input(\"enter language name: \")\n",
    "d.update({name: lang})\n",
    "\n",
    "name = input(\"enter friend name: \")\n",
    "lang = input(\"enter language name: \")\n",
    "d.update({name: lang})\n",
    "\n",
    "print(d)"
   ]
  },
  {
   "cell_type": "markdown",
   "id": "8ed3c129-a20a-4e9f-aadd-03d7e7863c06",
   "metadata": {},
   "source": [
    "8. If languages of two friends are same; what will happen to the program in problem \n",
    "6? "
   ]
  },
  {
   "cell_type": "code",
   "execution_count": 122,
   "id": "543f8241-dbeb-4325-8129-086e1a72b8b0",
   "metadata": {},
   "outputs": [],
   "source": [
    "#nothinhg will happen the values can be same"
   ]
  },
  {
   "cell_type": "markdown",
   "id": "7bfc3d0a-7aee-47be-b7e0-ca65914e0eb7",
   "metadata": {},
   "source": [
    "9. Can you change the values inside a list which is contained in set S? \n",
    "s = {8, 7, 12, \"Harry\", [1,2]}"
   ]
  },
  {
   "cell_type": "code",
   "execution_count": 125,
   "id": "8e56f4d7-be19-4a69-8f18-2fa3112d648a",
   "metadata": {},
   "outputs": [
    {
     "ename": "TypeError",
     "evalue": "unhashable type: 'list'",
     "output_type": "error",
     "traceback": [
      "\u001b[1;31m---------------------------------------------------------------------------\u001b[0m",
      "\u001b[1;31mTypeError\u001b[0m                                 Traceback (most recent call last)",
      "Cell \u001b[1;32mIn[125], line 1\u001b[0m\n\u001b[1;32m----> 1\u001b[0m s \u001b[38;5;241m=\u001b[39m {\u001b[38;5;241m8\u001b[39m, \u001b[38;5;241m7\u001b[39m, \u001b[38;5;241m12\u001b[39m, \u001b[38;5;124m\"\u001b[39m\u001b[38;5;124msatyam\u001b[39m\u001b[38;5;124m\"\u001b[39m, [\u001b[38;5;241m1\u001b[39m,\u001b[38;5;241m2\u001b[39m]}\n\u001b[0;32m      2\u001b[0m s[\u001b[38;5;241m4\u001b[39m][\u001b[38;5;241m0\u001b[39m] \u001b[38;5;241m=\u001b[39m \u001b[38;5;241m9\u001b[39m\n",
      "\u001b[1;31mTypeError\u001b[0m: unhashable type: 'list'"
     ]
    }
   ],
   "source": [
    "s = {8, 7, 12, \"satyam\", [1,2]}\n",
    "s[4][0] = 9 "
   ]
  },
  {
   "cell_type": "code",
   "execution_count": null,
   "id": "1781351e-f892-4614-813f-be28b7234f14",
   "metadata": {},
   "outputs": [],
   "source": []
  }
 ],
 "metadata": {
  "kernelspec": {
   "display_name": "Python 3 (ipykernel)",
   "language": "python",
   "name": "python3"
  },
  "language_info": {
   "codemirror_mode": {
    "name": "ipython",
    "version": 3
   },
   "file_extension": ".py",
   "mimetype": "text/x-python",
   "name": "python",
   "nbconvert_exporter": "python",
   "pygments_lexer": "ipython3",
   "version": "3.12.7"
  }
 },
 "nbformat": 4,
 "nbformat_minor": 5
}
