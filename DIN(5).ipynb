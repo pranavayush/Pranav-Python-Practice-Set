{
 "cells": [
  {
   "cell_type": "code",
   "execution_count": 1,
   "id": "b0b825d4-8d08-43c8-bf54-6f40468082b4",
   "metadata": {},
   "outputs": [],
   "source": [
    "#WHILE LOOP"
   ]
  },
  {
   "cell_type": "code",
   "execution_count": 7,
   "id": "9dc0cdd1-3a4f-4086-bd59-8aaffc0e7b99",
   "metadata": {},
   "outputs": [
    {
     "name": "stdout",
     "output_type": "stream",
     "text": [
      "2\n",
      "3\n",
      "4\n",
      "5\n"
     ]
    }
   ],
   "source": [
    "i = 1\n",
    "while(i<5):\n",
    "    i +=1\n",
    "    print(i) "
   ]
  },
  {
   "cell_type": "code",
   "execution_count": 9,
   "id": "5cfe98cc-f42c-48ff-a916-727c803417fa",
   "metadata": {},
   "outputs": [],
   "source": [
    "#list"
   ]
  },
  {
   "cell_type": "code",
   "execution_count": 15,
   "id": "ce310bbc-d988-4b89-9393-7dcb2c265a37",
   "metadata": {},
   "outputs": [
    {
     "name": "stdout",
     "output_type": "stream",
     "text": [
      "rohan\n",
      "This\n",
      "1\n",
      "True\n"
     ]
    }
   ],
   "source": [
    "l =[\"rohan\", \"This\", 1 , True]\n",
    "i = 0\n",
    "while(i<len(l)):\n",
    "    print(l[i])\n",
    "    i +=1"
   ]
  },
  {
   "cell_type": "code",
   "execution_count": null,
   "id": "081dbf32-5043-4f07-b356-d7c565149aeb",
   "metadata": {},
   "outputs": [],
   "source": []
  }
 ],
 "metadata": {
  "kernelspec": {
   "display_name": "Python 3 (ipykernel)",
   "language": "python",
   "name": "python3"
  },
  "language_info": {
   "codemirror_mode": {
    "name": "ipython",
    "version": 3
   },
   "file_extension": ".py",
   "mimetype": "text/x-python",
   "name": "python",
   "nbconvert_exporter": "python",
   "pygments_lexer": "ipython3",
   "version": "3.12.7"
  }
 },
 "nbformat": 4,
 "nbformat_minor": 5
}
