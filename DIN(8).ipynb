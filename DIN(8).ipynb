{
 "cells": [
  {
   "cell_type": "code",
   "execution_count": null,
   "id": "00b0c910-79ae-4a9b-b40c-f542f334fdb1",
   "metadata": {},
   "outputs": [],
   "source": [
    "#File / IO"
   ]
  },
  {
   "cell_type": "code",
   "execution_count": null,
   "id": "a0e16781-0dfb-4de5-b2d8-729df26e2681",
   "metadata": {},
   "outputs": [],
   "source": [
    "#how to read and close a file"
   ]
  },
  {
   "cell_type": "code",
   "execution_count": 1,
   "id": "0b197504-f030-4644-b61e-eb155fccc9db",
   "metadata": {},
   "outputs": [
    {
     "name": "stdout",
     "output_type": "stream",
     "text": [
      "Pranav is a good boy\n"
     ]
    },
    {
     "data": {
      "text/plain": [
       "<function TextIOWrapper.close()>"
      ]
     },
     "execution_count": 1,
     "metadata": {},
     "output_type": "execute_result"
    }
   ],
   "source": [
    "f = open(\"DIN(8).txt\") #create a text file # and write w.youwant\n",
    "data = f.read()\n",
    "print(data)\n",
    "f.close"
   ]
  },
  {
   "cell_type": "code",
   "execution_count": 7,
   "id": "4e54daa9-a686-413c-bda5-713499592a72",
   "metadata": {},
   "outputs": [],
   "source": [
    "#how to write a file"
   ]
  },
  {
   "cell_type": "code",
   "execution_count": 9,
   "id": "1496652a-0d5c-410d-8d15-dcb3c77ece6c",
   "metadata": {},
   "outputs": [],
   "source": [
    "st = \"hey pranav you are is amazing\"\n",
    "f = open(\"merafile.txt\", \"w\")\n",
    "f.write(st)\n",
    "f.close()"
   ]
  },
  {
   "cell_type": "code",
   "execution_count": 11,
   "id": "6097dd03-76e2-4e2f-8692-d13263eb620d",
   "metadata": {},
   "outputs": [],
   "source": [
    "#file function"
   ]
  },
  {
   "cell_type": "code",
   "execution_count": 15,
   "id": "311a72ef-8672-4444-a5f5-50fcd1117f27",
   "metadata": {},
   "outputs": [
    {
     "name": "stdout",
     "output_type": "stream",
     "text": [
      "['Pranav is a good boy\\n', 'HE is a student\\n', 'computer science student\\n', 'niet college'] <class 'list'>\n"
     ]
    },
    {
     "data": {
      "text/plain": [
       "<function TextIOWrapper.close()>"
      ]
     },
     "execution_count": 15,
     "metadata": {},
     "output_type": "execute_result"
    }
   ],
   "source": [
    "f = open(\"DIN(8).txt\")\n",
    "lines = f.readlines() #readlines ka mtlb hai jitni baar file chalega utni baar read hoga\n",
    "print(lines, type(lines))\n",
    "f.close"
   ]
  },
  {
   "cell_type": "code",
   "execution_count": 23,
   "id": "9e6c6274-1e4d-47e8-99c8-3fd2caf14135",
   "metadata": {},
   "outputs": [
    {
     "name": "stdout",
     "output_type": "stream",
     "text": [
      "['Pranav is a good boy\\n', 'HE is a student\\n', 'computer science student\\n', 'niet college'] <class 'list'>\n",
      " <class 'str'>\n",
      " <class 'str'>\n",
      " <class 'str'>\n",
      " <class 'str'>\n"
     ]
    }
   ],
   "source": [
    "f = open(\"DIN(8).txt\")\n",
    "lines = f.readlines()\n",
    "print(lines, type(lines))\n",
    "line1 = f.readline()\n",
    "print(line1, type(line1))\n",
    "line2 = f.readline()\n",
    "print(line2, type(line2))\n",
    "line3 = f.readline()\n",
    "print(line3, type(line3))\n",
    "line4 = f.readline()\n",
    "print(line4, type(line4))\n",
    "\n",
    "f.close()"
   ]
  },
  {
   "cell_type": "code",
   "execution_count": 25,
   "id": "019f40a1-d252-42e6-aeff-18a71b62b68f",
   "metadata": {},
   "outputs": [],
   "source": [
    "#append mode"
   ]
  },
  {
   "cell_type": "code",
   "execution_count": 3,
   "id": "38ef3e8b-7ee3-487c-9c51-c8f50b05227c",
   "metadata": {},
   "outputs": [],
   "source": [
    "st = \"hey pranav you are is amazing\"\n",
    "f = open(\"merafile.txt\", \"a\") #\"a\" add krte jaata hai jo v file mien hota hai\n",
    "f.write(st)\n",
    "f.close()"
   ]
  },
  {
   "cell_type": "code",
   "execution_count": 5,
   "id": "8905949b-a8e7-4e8d-9544-29bd149e4957",
   "metadata": {},
   "outputs": [],
   "source": [
    "#with statement"
   ]
  },
  {
   "cell_type": "code",
   "execution_count": 9,
   "id": "9679c24c-86ea-4e9b-8a4d-6ef322c18319",
   "metadata": {},
   "outputs": [
    {
     "name": "stdout",
     "output_type": "stream",
     "text": [
      "Pranav is a good boy\n",
      "HE is a student\n",
      "computer science student\n",
      "niet college\n",
      "Pranav is a good boy\n",
      "HE is a student\n",
      "computer science student\n",
      "niet college\n"
     ]
    }
   ],
   "source": [
    "f = open(\"DIN(8).txt\")\n",
    "print(f.read())\n",
    "f.close\n",
    "#the same can be written using with statement like this:\n",
    "with open (\"DIN(8).txt\") as f:\n",
    "    print(f.read())\n",
    "#you dont have to close the file wo with kr dega"
   ]
  },
  {
   "cell_type": "code",
   "execution_count": null,
   "id": "35de9803-6615-4f49-8c94-a9cdf7fbae18",
   "metadata": {},
   "outputs": [],
   "source": []
  }
 ],
 "metadata": {
  "kernelspec": {
   "display_name": "Python 3 (ipykernel)",
   "language": "python",
   "name": "python3"
  },
  "language_info": {
   "codemirror_mode": {
    "name": "ipython",
    "version": 3
   },
   "file_extension": ".py",
   "mimetype": "text/x-python",
   "name": "python",
   "nbconvert_exporter": "python",
   "pygments_lexer": "ipython3",
   "version": "3.12.7"
  }
 },
 "nbformat": 4,
 "nbformat_minor": 5
}
