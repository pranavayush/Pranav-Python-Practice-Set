{
 "cells": [
  {
   "cell_type": "code",
   "execution_count": null,
   "id": "00b0c910-79ae-4a9b-b40c-f542f334fdb1",
   "metadata": {},
   "outputs": [],
   "source": [
    "#File / IO"
   ]
  },
  {
   "cell_type": "code",
   "execution_count": null,
   "id": "a0e16781-0dfb-4de5-b2d8-729df26e2681",
   "metadata": {},
   "outputs": [],
   "source": [
    "#how to read and close a file"
   ]
  },
  {
   "cell_type": "code",
   "execution_count": 1,
   "id": "0b197504-f030-4644-b61e-eb155fccc9db",
   "metadata": {},
   "outputs": [
    {
     "name": "stdout",
     "output_type": "stream",
     "text": [
      "Pranav is a good boy\n"
     ]
    },
    {
     "data": {
      "text/plain": [
       "<function TextIOWrapper.close()>"
      ]
     },
     "execution_count": 1,
     "metadata": {},
     "output_type": "execute_result"
    }
   ],
   "source": [
    "f = open(\"DIN(8).txt\") #create a text file # and write w.youwant\n",
    "data = f.read()\n",
    "print(data)\n",
    "f.close"
   ]
  },
  {
   "cell_type": "code",
   "execution_count": 7,
   "id": "4e54daa9-a686-413c-bda5-713499592a72",
   "metadata": {},
   "outputs": [],
   "source": [
    "#how to write a file"
   ]
  },
  {
   "cell_type": "code",
   "execution_count": 9,
   "id": "1496652a-0d5c-410d-8d15-dcb3c77ece6c",
   "metadata": {},
   "outputs": [],
   "source": [
    "st = \"hey pranav you are is amazing\"\n",
    "f = open(\"merafile.txt\", \"w\")\n",
    "f.write(st)\n",
    "f.close()"
   ]
  },
  {
   "cell_type": "code",
   "execution_count": 11,
   "id": "6097dd03-76e2-4e2f-8692-d13263eb620d",
   "metadata": {},
   "outputs": [],
   "source": [
    "#file function"
   ]
  },
  {
   "cell_type": "code",
   "execution_count": 15,
   "id": "311a72ef-8672-4444-a5f5-50fcd1117f27",
   "metadata": {},
   "outputs": [
    {
     "name": "stdout",
     "output_type": "stream",
     "text": [
      "['Pranav is a good boy\\n', 'HE is a student\\n', 'computer science student\\n', 'niet college'] <class 'list'>\n"
     ]
    },
    {
     "data": {
      "text/plain": [
       "<function TextIOWrapper.close()>"
      ]
     },
     "execution_count": 15,
     "metadata": {},
     "output_type": "execute_result"
    }
   ],
   "source": [
    "f = open(\"DIN(8).txt\")\n",
    "lines = f.readlines() #readlines ka mtlb hai jitni baar file chalega utni baar read hoga\n",
    "print(lines, type(lines))\n",
    "f.close"
   ]
  },
  {
   "cell_type": "code",
   "execution_count": 23,
   "id": "9e6c6274-1e4d-47e8-99c8-3fd2caf14135",
   "metadata": {},
   "outputs": [
    {
     "name": "stdout",
     "output_type": "stream",
     "text": [
      "['Pranav is a good boy\\n', 'HE is a student\\n', 'computer science student\\n', 'niet college'] <class 'list'>\n",
      " <class 'str'>\n",
      " <class 'str'>\n",
      " <class 'str'>\n",
      " <class 'str'>\n"
     ]
    }
   ],
   "source": [
    "f = open(\"DIN(8).txt\")\n",
    "lines = f.readlines()\n",
    "print(lines, type(lines))\n",
    "line1 = f.readline()\n",
    "print(line1, type(line1))\n",
    "line2 = f.readline()\n",
    "print(line2, type(line2))\n",
    "line3 = f.readline()\n",
    "print(line3, type(line3))\n",
    "line4 = f.readline()\n",
    "print(line4, type(line4))\n",
    "\n",
    "f.close()"
   ]
  },
  {
   "cell_type": "code",
   "execution_count": 25,
   "id": "019f40a1-d252-42e6-aeff-18a71b62b68f",
   "metadata": {},
   "outputs": [],
   "source": [
    "#append mode"
   ]
  },
  {
   "cell_type": "code",
   "execution_count": 3,
   "id": "38ef3e8b-7ee3-487c-9c51-c8f50b05227c",
   "metadata": {},
   "outputs": [],
   "source": [
    "st = \"hey pranav you are is amazing\"\n",
    "f = open(\"merafile.txt\", \"a\") #\"a\" add krte jaata hai jo v file mien hota hai\n",
    "f.write(st)\n",
    "f.close()"
   ]
  },
  {
   "cell_type": "code",
   "execution_count": 5,
   "id": "8905949b-a8e7-4e8d-9544-29bd149e4957",
   "metadata": {},
   "outputs": [],
   "source": [
    "#with statement"
   ]
  },
  {
   "cell_type": "code",
   "execution_count": 9,
   "id": "9679c24c-86ea-4e9b-8a4d-6ef322c18319",
   "metadata": {},
   "outputs": [
    {
     "name": "stdout",
     "output_type": "stream",
     "text": [
      "Pranav is a good boy\n",
      "HE is a student\n",
      "computer science student\n",
      "niet college\n",
      "Pranav is a good boy\n",
      "HE is a student\n",
      "computer science student\n",
      "niet college\n"
     ]
    }
   ],
   "source": [
    "f = open(\"DIN(8).txt\")\n",
    "print(f.read())\n",
    "f.close\n",
    "#the same can be written using with statement like this:\n",
    "with open (\"DIN(8).txt\") as f:\n",
    "    print(f.read())\n",
    "#you dont have to close the file wo with kr dega"
   ]
  },
  {
   "cell_type": "code",
   "execution_count": 1,
   "id": "35de9803-6615-4f49-8c94-a9cdf7fbae18",
   "metadata": {},
   "outputs": [],
   "source": [
    "# PRACTICE SET"
   ]
  },
  {
   "cell_type": "markdown",
   "id": "798a8678-35b1-4819-947c-9308e04ea255",
   "metadata": {},
   "source": [
    "1. Write a program to read the text from a given file ‘poems.txt’ and find out \n",
    "whether it contains the word ‘twinkle’"
   ]
  },
  {
   "cell_type": "code",
   "execution_count": 13,
   "id": "3486e4e2-54ce-4d56-9394-95bb2b8668b3",
   "metadata": {},
   "outputs": [
    {
     "name": "stdout",
     "output_type": "stream",
     "text": [
      "twinkle present hai\n"
     ]
    }
   ],
   "source": [
    "f = open(\"poem.txt\")\n",
    "content = f.read()\n",
    "if(\"twinkle\" in content):\n",
    "    print(\"twinkle present hai\")\n",
    "else:\n",
    "    print(\"twinkle present nhi hai\")\n",
    "f.close()"
   ]
  },
  {
   "cell_type": "markdown",
   "id": "bad53acd-9840-4626-a398-e3dd591f2cf0",
   "metadata": {},
   "source": [
    "2. The game() function in a program lets a user play a game and returns the score \n",
    "as an integer. You need to read a file ‘Hi-score.txt’ which is either blank or \n",
    "contains the previous Hi-score. You need to write a program to update the Hi\n",
    "score whenever the game() function breaks the Hi-score."
   ]
  },
  {
   "cell_type": "code",
   "execution_count": 34,
   "id": "acf611ec-31d2-4678-8042-6ad041c59cf1",
   "metadata": {},
   "outputs": [
    {
     "name": "stdout",
     "output_type": "stream",
     "text": [
      "tum game khel rhe ho\n",
      "tumhara score: 17\n"
     ]
    },
    {
     "data": {
      "text/plain": [
       "17"
      ]
     },
     "execution_count": 34,
     "metadata": {},
     "output_type": "execute_result"
    }
   ],
   "source": [
    "import random\n",
    "def game():\n",
    "    print(\"tum game khel rhe ho\")\n",
    "    score = random.randint(1, 62)\n",
    "    #fetch the high score\n",
    "    with open(\"highscore.txt\") as f:\n",
    "        highscore = f.read()\n",
    "        if(highscore!=\"\"):\n",
    "            highscore = int(highscore)\n",
    "        else:\n",
    "            highscore = 0\n",
    "    print(f\"tumhara score: {score}\")\n",
    "    if(score>highscore or highscore==\"\"):\n",
    "        #write this highscore to the file\n",
    "        with open(\"highscore.txt\", \"w\") as f:\n",
    "            f.write(str(highscore))\n",
    "    return score\n",
    "game()\n"
   ]
  },
  {
   "cell_type": "markdown",
   "id": "d6f9d10f-ef16-4036-9f8d-76b548f93496",
   "metadata": {},
   "source": [
    "3. Write a program to generate multiplication tables from 2 to 20 and write it to the \n",
    "different files. Place these files in a folder for a 13 – year old. "
   ]
  },
  {
   "cell_type": "code",
   "execution_count": 49,
   "id": "e318781c-8500-4485-ac0e-66ff7b166367",
   "metadata": {},
   "outputs": [],
   "source": [
    "def generateTable(n):\n",
    "    table = \"\"\n",
    "    for i in range(1, 11):\n",
    "        table += f\"{n} X {i} = {n*i}\\n\"\n",
    "    \n",
    "    with open(f\"tabletable_{n}.txt\", \"w\") as f:\n",
    "        f.write(table)\n",
    "for i in range(2, 21):\n",
    "    generateTable(i)"
   ]
  },
  {
   "cell_type": "markdown",
   "id": "f898ffaf-66e8-4e1c-8564-ff4d5647ddb7",
   "metadata": {},
   "source": [
    "4. A file contains a word “Donkey” multiple times. You need to write a program \n",
    "which replace this word with ##### by updating the same file.  "
   ]
  },
  {
   "cell_type": "code",
   "execution_count": 54,
   "id": "70afe1d6-599b-4a1d-a710-e852004f31f4",
   "metadata": {},
   "outputs": [],
   "source": [
    "word = \"donkey\"\n",
    "with open(\"donkeyfile.txt\", \"r\") as f:\n",
    "    content = f.read()\n",
    "contentNew = content.replace(word, \"######\")\n",
    "with open(\"donkeyfile.txt\", \"w\") as f:\n",
    "    f.write(contentNew)"
   ]
  },
  {
   "cell_type": "markdown",
   "id": "0861821d-de13-48ae-b862-b0292c37e374",
   "metadata": {},
   "source": [
    "5. Repeat program 4 for a list of such words to be censored. "
   ]
  },
  {
   "cell_type": "code",
   "execution_count": 59,
   "id": "49e337d4-e242-4f32-bf81-ab69e1f0c30a",
   "metadata": {},
   "outputs": [],
   "source": [
    "words = [\"donkey\", \"bad\", \"gande\"]\n",
    "with open(\"donkeyfile.txt\", \"r\") as f:\n",
    "    content = f.read()\n",
    "for word in words:\n",
    "    content = content.replace(word, \"#\" * len(word))\n",
    "with open(\"donkeyfile.txt\", \"w\") as f:\n",
    "    f.write(content)"
   ]
  },
  {
   "cell_type": "markdown",
   "id": "c10bec1a-c262-4b9b-8738-3d5cc155af72",
   "metadata": {},
   "source": [
    "6. Write a program to mine a log file and find out whether it contains ‘python’. "
   ]
  },
  {
   "cell_type": "code",
   "execution_count": 64,
   "id": "cfcf0a86-4601-4903-8702-9e544b451a3c",
   "metadata": {},
   "outputs": [
    {
     "name": "stdout",
     "output_type": "stream",
     "text": [
      "yes python hai\n"
     ]
    }
   ],
   "source": [
    "with open(\"log.txt\") as f:\n",
    "    content = f.read()\n",
    "if (\"python\" in content):\n",
    "    print(\"yes python hai\")\n",
    "else:\n",
    "    print(\"nhi hai python\")"
   ]
  },
  {
   "cell_type": "markdown",
   "id": "57bead08-3635-4e1a-ba10-12641686dc71",
   "metadata": {},
   "source": [
    "7. Write a program to find out the line number where python is present from ques 6."
   ]
  },
  {
   "cell_type": "code",
   "execution_count": 73,
   "id": "d28c6326-e281-46c0-b153-da31183aaf39",
   "metadata": {},
   "outputs": [
    {
     "name": "stdout",
     "output_type": "stream",
     "text": [
      "Yes python is present. Line no: 4\n"
     ]
    }
   ],
   "source": [
    "with open(\"log.txt\") as f:\n",
    "    lines = f.readlines()\n",
    "\n",
    "lineno = 1\n",
    "for line in lines:\n",
    "    if(\"python\" in line):\n",
    "        print(f\"Yes python is present. Line no: {lineno}\")\n",
    "        break\n",
    "    lineno += 1\n",
    "\n",
    "else:\n",
    "    print(\"No Python is not present\")"
   ]
  },
  {
   "cell_type": "markdown",
   "id": "a7ab7cbf-36e8-4524-9697-2c7f755fc3a3",
   "metadata": {},
   "source": [
    "8. Write a program to make a copy of a text file “this. txt” "
   ]
  },
  {
   "cell_type": "code",
   "execution_count": 78,
   "id": "9e371322-d108-4929-8c1e-bad7f4740e53",
   "metadata": {},
   "outputs": [],
   "source": [
    "with open(\"this.txt\") as f:\n",
    "    content = f.read()\n",
    "with open(\"this_copy.txt\", \"w\") as f:\n",
    "    f.write(content)"
   ]
  },
  {
   "cell_type": "markdown",
   "id": "e278beb6-a23c-4958-8b1a-52ea163c788d",
   "metadata": {},
   "source": [
    "9. Write a program to find out whether a file is identical & matches the content of \n",
    "another file. "
   ]
  },
  {
   "cell_type": "code",
   "execution_count": 87,
   "id": "f4536d3e-13a9-40e7-8126-6fa0fe64c943",
   "metadata": {},
   "outputs": [
    {
     "name": "stdout",
     "output_type": "stream",
     "text": [
      "No these files are not identical\n"
     ]
    }
   ],
   "source": [
    "with open(\"this.txt\") as f:\n",
    "    content1 = f.read()\n",
    "\n",
    "with open(\"poem.txt\") as f:\n",
    "    content2 = f.read()\n",
    "\n",
    "if(content1 == content2):\n",
    "    print(\"Yes these files are identical\")\n",
    "\n",
    "else: \n",
    "    print(\"No these files are not identical\")"
   ]
  },
  {
   "cell_type": "markdown",
   "id": "668226b8-2a0f-4fcb-9daa-a8f1727dbd5a",
   "metadata": {},
   "source": [
    "10. Write a program to wipe out the content of a file using python. "
   ]
  },
  {
   "cell_type": "code",
   "execution_count": 92,
   "id": "a7857690-7fa1-4c13-8a4c-9b5b38f50823",
   "metadata": {},
   "outputs": [],
   "source": [
    "with open(\"this_copy.txt\", \"w\") as f:\n",
    "    f.write(\"\")"
   ]
  },
  {
   "cell_type": "markdown",
   "id": "fde9e3f7-e139-47fc-a5d4-35cbeebab48e",
   "metadata": {},
   "source": [
    "11. Write a python program to rename a file to “renamed_by_ python.txt. "
   ]
  },
  {
   "cell_type": "code",
   "execution_count": 95,
   "id": "1cd2346b-839e-43ce-a839-e2b8b3abf638",
   "metadata": {},
   "outputs": [],
   "source": [
    "with open(\"old.txt\") as f:\n",
    "    content = f.read()\n",
    "\n",
    "with open(\"renamed_by_python.txt\", \"w\") as f:\n",
    "    f.write(content)"
   ]
  },
  {
   "cell_type": "code",
   "execution_count": null,
   "id": "f73d91eb-6d35-43c5-82b2-3844eb4edc09",
   "metadata": {},
   "outputs": [],
   "source": []
  }
 ],
 "metadata": {
  "kernelspec": {
   "display_name": "Python 3 (ipykernel)",
   "language": "python",
   "name": "python3"
  },
  "language_info": {
   "codemirror_mode": {
    "name": "ipython",
    "version": 3
   },
   "file_extension": ".py",
   "mimetype": "text/x-python",
   "name": "python",
   "nbconvert_exporter": "python",
   "pygments_lexer": "ipython3",
   "version": "3.12.7"
  }
 },
 "nbformat": 4,
 "nbformat_minor": 5
}
